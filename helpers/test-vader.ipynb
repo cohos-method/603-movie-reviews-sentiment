{
 "cells": [
  {
   "cell_type": "code",
   "execution_count": 1,
   "id": "e51a7bb7",
   "metadata": {},
   "outputs": [],
   "source": [
    "from vaderSentiment.vaderSentiment import SentimentIntensityAnalyzer\n",
    "\n"
   ]
  },
  {
   "cell_type": "code",
   "execution_count": 3,
   "id": "ca83c44c",
   "metadata": {},
   "outputs": [],
   "source": [
    "sentence = \"In the year 180, the death of emperor Marcus Aurelius throws the Roman Empire into chaos. Maximus is one of the Roman army's most capable and trusted generals and a key advisor to the emperor. As Marcus' devious son Commodus ascends to the throne, Maximus is set to be executed. He escapes, but is captured by slave traders. Renamed Spaniard and forced to become a gladiator, Maximus must battle to the death with other men for the amusement of paying audiences.\""
   ]
  },
  {
   "cell_type": "code",
   "execution_count": 4,
   "id": "3df010e3",
   "metadata": {},
   "outputs": [
    {
     "data": {
      "text/plain": [
       "{'neg': 0.179, 'neu': 0.733, 'pos': 0.088, 'compound': -0.8984}"
      ]
     },
     "execution_count": 4,
     "metadata": {},
     "output_type": "execute_result"
    }
   ],
   "source": [
    "sid_obj = SentimentIntensityAnalyzer()\n",
    "sentiment_dict = sid_obj.polarity_scores(sentence)\n",
    "sentiment_dict"
   ]
  },
  {
   "cell_type": "code",
   "execution_count": 8,
   "id": "ea2c93a3",
   "metadata": {},
   "outputs": [
    {
     "name": "stdout",
     "output_type": "stream",
     "text": [
      "0.179\n",
      "0.733\n",
      "0.088\n",
      "-0.8984\n"
     ]
    }
   ],
   "source": [
    "print(sentiment_dict['neg'])\n",
    "print(sentiment_dict['neu'])\n",
    "print(sentiment_dict['pos'])\n",
    "print(sentiment_dict['compound'])"
   ]
  },
  {
   "cell_type": "code",
   "execution_count": 15,
   "id": "2ff1ec63",
   "metadata": {},
   "outputs": [],
   "source": [
    "sent_keys = [\"Negative\", \"Neutral\", \"Positive\"]"
   ]
  },
  {
   "cell_type": "code",
   "execution_count": 16,
   "id": "d321f0f6",
   "metadata": {},
   "outputs": [
    {
     "name": "stdout",
     "output_type": "stream",
     "text": [
      "[0.179, 0.733, 0.088]\n",
      "0.733\n"
     ]
    }
   ],
   "source": [
    "sent_values = [x for x in sentiment_dict.values()]\n",
    "sent_values=sent_values[:3]\n",
    "print(sent_values)\n",
    "print(max(sent_values))"
   ]
  },
  {
   "cell_type": "code",
   "execution_count": 17,
   "id": "a35084cf",
   "metadata": {},
   "outputs": [
    {
     "data": {
      "text/plain": [
       "1"
      ]
     },
     "execution_count": 17,
     "metadata": {},
     "output_type": "execute_result"
    }
   ],
   "source": [
    "# find the index of the max value\n",
    "import numpy as np\n",
    "index_max = np.argmax(sent_values)\n",
    "index_max"
   ]
  },
  {
   "cell_type": "code",
   "execution_count": 18,
   "id": "6f05cccc",
   "metadata": {},
   "outputs": [
    {
     "name": "stdout",
     "output_type": "stream",
     "text": [
      "Neutral\n"
     ]
    }
   ],
   "source": [
    "sent_keys = [\"Negative\", \"Neutral\", \"Positive\"]\n",
    "final = sent_keys[index_max]\n",
    "print(final)"
   ]
  },
  {
   "cell_type": "code",
   "execution_count": 2,
   "id": "96d198c8",
   "metadata": {},
   "outputs": [],
   "source": [
    "# primary function here\n",
    "def sentiment_scores(sentence):\n",
    "    sent_keys = [\"Negative\", \"Neutral\", \"Positive\"]\n",
    "    # Create a SentimentIntensityAnalyzer object.\n",
    "    sid_obj = SentimentIntensityAnalyzer()\n",
    "\n",
    "    # polarity_scores method of SentimentIntensityAnalyzer\n",
    "    # object gives a sentiment dictionary.\n",
    "    sentiment_dict = sid_obj.polarity_scores(sentence)\n",
    "    sent_values = [x for x in sentiment_dict.values()]\n",
    "    sent_values=sent_values[:3]\n",
    "    # find the index of the max value\n",
    "\n",
    "    index_max = np.argmax(sent_values)\n",
    "    \n",
    "    # decide sentiment as positive, negative and neutral\n",
    "    final = sent_keys[index_max]\n",
    "    # responses\n",
    "    response1=f\"Overall sentiment is {final} with scores: {sentiment_dict}\"\n",
    "    return response1\n"
   ]
  },
  {
   "cell_type": "code",
   "execution_count": null,
   "id": "cc7ecc2b",
   "metadata": {},
   "outputs": [],
   "source": []
  }
 ],
 "metadata": {
  "kernelspec": {
   "display_name": "Python 3 (ipykernel)",
   "language": "python",
   "name": "python3"
  },
  "language_info": {
   "codemirror_mode": {
    "name": "ipython",
    "version": 3
   },
   "file_extension": ".py",
   "mimetype": "text/x-python",
   "name": "python",
   "nbconvert_exporter": "python",
   "pygments_lexer": "ipython3",
   "version": "3.9.7"
  }
 },
 "nbformat": 4,
 "nbformat_minor": 5
}

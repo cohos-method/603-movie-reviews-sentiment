{
 "cells": [
  {
   "cell_type": "markdown",
   "metadata": {},
   "source": [
    "## Predict on new data"
   ]
  },
  {
   "cell_type": "code",
   "execution_count": 1,
   "metadata": {},
   "outputs": [],
   "source": [
    "# EDA and data handling\n",
    "import numpy as np \n",
    "\n",
    "import pandas as pd \n",
    "import pickle\n",
    "import os\n",
    "import matplotlib.pyplot as plt\n",
    "\n",
    "# Modeling\n",
    "import sklearn\n",
    "from sklearn.model_selection import train_test_split, GridSearchCV \n",
    "from sklearn.feature_extraction.text import TfidfVectorizer\n",
    "from sklearn.ensemble import RandomForestClassifier \n",
    "from sklearn import metrics"
   ]
  },
  {
   "cell_type": "code",
   "execution_count": 2,
   "metadata": {},
   "outputs": [],
   "source": [
    "# open the pickled word vector file\n",
    "file = open('vectorizer.pkl', 'rb')\n",
    "tvec_pkl=pickle.load(file)\n",
    "file.close()"
   ]
  },
  {
   "cell_type": "code",
   "execution_count": 3,
   "metadata": {},
   "outputs": [
    {
     "data": {
      "text/plain": [
       "sklearn.feature_extraction.text.TfidfVectorizer"
      ]
     },
     "execution_count": 3,
     "metadata": {},
     "output_type": "execute_result"
    }
   ],
   "source": [
    "type(tvec_pkl)"
   ]
  },
  {
   "cell_type": "code",
   "execution_count": 4,
   "metadata": {},
   "outputs": [
    {
     "name": "stdout",
     "output_type": "stream",
     "text": [
      "  (0, 9124)\t0.3040647605827506\n",
      "  (0, 9008)\t0.2849153164677444\n",
      "  (0, 8964)\t0.28908357882114305\n",
      "  (0, 7852)\t0.2774632714704683\n",
      "  (0, 6376)\t0.32517955036019286\n",
      "  (0, 6151)\t0.21910794805572253\n",
      "  (0, 5620)\t0.20030800511257202\n",
      "  (0, 4848)\t0.2413672999314185\n",
      "  (0, 4045)\t0.20356378265809474\n",
      "  (0, 4021)\t0.24496013677103246\n",
      "  (0, 3692)\t0.20614656713158055\n",
      "  (0, 2930)\t0.22510023853806116\n",
      "  (0, 2427)\t0.3101983685985853\n",
      "  (0, 2163)\t0.24881934492869462\n",
      "  (0, 817)\t0.24685399926625856\n"
     ]
    }
   ],
   "source": [
    "# try the major words from our model\n",
    "newdata = ['horror, spirit, weekend, group, left, evil, deadly, battle, mysterious, possession, people, disappeared, vicious, virus, house']\n",
    "tvec_test=tvec_pkl.transform(newdata)\n",
    "print(str(tvec_pkl.transform(newdata)))"
   ]
  },
  {
   "cell_type": "code",
   "execution_count": 14,
   "metadata": {},
   "outputs": [
    {
     "data": {
      "text/plain": [
       "scipy.sparse.csr.csr_matrix"
      ]
     },
     "execution_count": 14,
     "metadata": {},
     "output_type": "execute_result"
    }
   ],
   "source": [
    "type(tvec_pkl.transform(newdata))"
   ]
  },
  {
   "cell_type": "code",
   "execution_count": null,
   "metadata": {},
   "outputs": [],
   "source": [
    "# open the pickled RF model file\n",
    "file = open(f'trained_rf_model.pkl', 'rb')\n",
    "rf_model_pickled=pickle.load(file)\n",
    "file.close()"
   ]
  },
  {
   "cell_type": "code",
   "execution_count": null,
   "metadata": {},
   "outputs": [],
   "source": [
    "# new predictions\n",
    "preds_test=rf_model_pickled.predict(tvec_test)\n",
    "print(preds_test)\n",
    "probs_test0=rf_model_pickled.predict_proba(tvec_test)[:,0]\n",
    "print(probs_test0)\n",
    "probs_test1=rf_model_pickled.predict_proba(tvec_test)[:,1]\n",
    "print(probs_test1)\n"
   ]
  },
  {
   "cell_type": "code",
   "execution_count": null,
   "metadata": {},
   "outputs": [],
   "source": [
    "# using the 15 top words of the classifier for comedy\n",
    "tryagain=['high, friends, wedding, kids, big, best friends, beauty, just, competition, woman, make, comedy, trio, laid, stars']\n",
    "tvec_02 = tvec_pkl.transform(tryagain)\n",
    "preds_02=rf_model_pickled.predict(tvec_02)\n",
    "print(preds_02)\n",
    "probs_test0=rf_model_pickled.predict_proba(tvec_02)[:,0]\n",
    "print(probs_test0)\n",
    "probs_test1=rf_model_pickled.predict_proba(tvec_02)[:,1]\n",
    "print(probs_test1)"
   ]
  }
 ],
 "metadata": {
  "kernelspec": {
   "display_name": "Python 3",
   "language": "python",
   "name": "python3"
  },
  "language_info": {
   "codemirror_mode": {
    "name": "ipython",
    "version": 3
   },
   "file_extension": ".py",
   "mimetype": "text/x-python",
   "name": "python",
   "nbconvert_exporter": "python",
   "pygments_lexer": "ipython3",
   "version": "3.7.3"
  }
 },
 "nbformat": 4,
 "nbformat_minor": 2
}

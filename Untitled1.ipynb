{
 "cells": [
  {
   "cell_type": "code",
   "execution_count": 3,
   "id": "1cb04367-5183-40b2-8344-0405dfccdeda",
   "metadata": {},
   "outputs": [],
   "source": [
    "from cohos import *"
   ]
  },
  {
   "cell_type": "code",
   "execution_count": 4,
   "id": "f8e0167f-d57a-404f-99de-da4ca6720403",
   "metadata": {},
   "outputs": [
    {
     "name": "stdout",
     "output_type": "stream",
     "text": [
      "*** API Call Response:  <Response [200]>\n",
      "*** Data from Response:  {\"_type\":\"news\",\"didUMean\":\"\",\"totalCount\":26,\"relatedSearch\":[],\"value\":[{\"id\":\"2456037419726511376\",\"title\":\"A terrible war crime: Killing of civilians in Ukraines Bucha sparks outrage and calls for new sanctions\",\"url\":\"-war-crime-killing-civilians-182751913.html\",\"description\":\"Western nations unite in condemnation of Russia over civilian killings, as hundreds of bodies are found in towns around Kyiv\",\"body\":\"Vladimir Putin\\nPresident of Russia\\nWestern powers have vowed to hold Russia accountable for the killing of civilians in the town of Bucha and other areas around Kyiv, accusing Moscow of a terrible war crime.\\nOfficials in Ukraine said that troops had found civilian corpses with bound hands, gunshot wounds to the head, and showing signs of torture, after Russian soldiers withdrew from the outskirts of Kyiv. The Ukrainian government has accused Russias armed forces of carrying out a massacre and genocide.\\nAfter Ukraine announced on Saturday that it had reclaimed control of the Kyiv region  the first time it has done so since Vladimir Putinlaunched his invasion on 24 February  the mayor of Bucha, a liberated town 37 km northwest of the capital, said that hundreds of its residents had been killed by the Russian army.\\nUkrainian prosecutors investigating possible war crimes by Russiahave so far found 410 bodies in various towns near Kyiv, the countrys prosecutor general Iryna Venedyktova said later on Sunday.\\nCommunal workers carry the body of a civilian man killed by Russian shelling in the town of Bucha (AFP via Getty)\\nThe photographs of bodies strewn across the street, wrapped in bin bags and buried in mass graves, in Bucha as well as in the Kyiv suburbs of Irpin and Hostomel, spurred calls from officials in Ukraine, and vows from ministers across Europe, to impose tougher sanctions on Moscow.\\nOleksiy Arestovych, an adviser to Ukrainian president Volodymyr Zelensky, said the scores of dead looked like a scene from a horror movie, while Ukraines foreign minister, Dmytro Kuleba, said: Bucha massacre was deliberate. We are still gathering and looking for bodies, but the number has already gone into the hundreds.\\n\\\"Dead bodies lie on the streets. They killed civilians while staying there and when they were leaving these villages and towns.\\nMr Kuleba urged G7 nations to impose \\\"devastating\\\" new sanctions on Moscow to target its oil, gas, and coal industries, goods exports, and financial sector, and asked the International Criminal Court (ICC) to collect evidence of what he called war crimes.\\nStory continues\\nA soldier surveys the destruction left in Bucha (Zohra Bensemra/Reuters)\\nIn an interview with CBS Newslater on Sunday, Mr Zelensky himself said Russia was committing genocide against his country.\\nIndeed, this is genocide. The elimination of the whole nation and the people, he said, speaking through a translator. We are the citizens of Ukraine and we dont want to be subdued to the policy of Russian Federation. This is the reason we are being destroyed and exterminated.\\nRussias defence ministry denied that its forces had killed civilians in Bucha, and described photos and videos from the town as \\\"another staged performance by the Kyiv regime for the Western media\\\".\\nMoscow has previously denied targeting civilians and has rejected allegations of war crimes in what it calls a \\\"special military operation\\\" aimed at demilitarising and \\\"denazifying\\\" Ukraine.\\nThe foreign ministers of France, Germany, the UK and US were among those to condemn Russia over the reports from Bucha.\\nGerman chancellor Olaf Scholz prepares to give a statement about the killings in Bucha (AFP via Getty Images)\\nUS secretary of state Antony Blinken said the images of dead civilians were a punch in the gut and that those responsible must be held accountable.\\nUK prime minister Boris Johnson denounced Russias \\\"despicable attacks\\\" against civilians in Bucha and Irpin, describing them as war crimes and pledging increased sanctions and military support for Ukraine. The British government has vowed to support any war crimes investigation by the ICC and Mr Johnson said it would provide additional funding and investigators for the court.\\nEarlier, Foreign Secretary Liz Truss said \\\"indiscriminate\\\" attacks by Russian forces against innocent civilians must be investigated as war crimes and that the UK would \\\"not rest\\\" until those responsible for \\\"atrocities\\\" in Ukraine had faced justice. Ms Truss added that Russia would not be allowed to cover up its involvement through \\\"cynical disinformation\\\".\\nFrench president Emmanuel Macron, who has spoken frequently with Mr Putin in recent weeks, called the pictures \\\"unbearable\\\" and said Moscow will have to answer for these crimes, while Germanys vice chancellor Robert Habeck said the killings were a terrible war crime [that] cannot go unanswered.\\nThis map shows the extent of Russian invasion of Ukraine (Press Association Images)\\nLater, Germanys leader Olaf Scholz announced that western allies would agree further sanctions on Russia in the coming days over its invasion and the atrocities committed by Kremlin forces in Bucha.\\nNato head Jens Stoltenberg described the killings as \\\"a brutality against civilians not seen in Europe for decades, while UN chief Antonio Guterres said he was deeply shocked by the images and called for an independent investigation into the deaths.\\nMeanwhile, fighting continued across Ukraine on Sunday in the sixth week of a war that has driven more than 4 million people out of Ukraine as refugees and uprooted at least 6.5 million people within the country.\\nMissiles struck near the southern port of Odesa, with Russia saying it had destroyed an oil refineryand fuel depots used by the Ukrainian military to supply its troops.\\nUkraines Zelensky says Putin is committing genocide\\nThe regional governor in northeastern Kharkiv said that Russian artillery and tanks performed over 20 strikes on Ukraines second largest city and its outskirts over the past day, killing some civilians and injuring 23 - although he did not give a death toll.\\nEvacuation efforts in southeastern Mariupol and nearby Berdyansk were set to continue with a convoy of buses being prepared with help from the Red Cross, although The Independent understands that hopes are low after several previous failed attempts.\\nThe strategic port city is Russias main target in the Donbas region, and tens of thousands of civilians there have been trapped for weeks with very little to eat or drink. Several people who managed to escape the city by their own means told The Independent on Saturdaythat people there were burying bodies of those killed by shelling in mass graves in nursery schools, gardens and parks.\\nThere was little sign of a breakthrough on Sunday in efforts to negotiate an end to the conflict, although Russias chief negotiator, Vladimir Medinsky, said talks were set to resume on Monday via videoconference.\\nUkrainian negotiator David Arakhamia said enough progress had been made for direct talks between Mr Zelensky and Mr Putin.\\nAdvertisement\",\"snippet\":\"Western nations unite in condemnation of Russia over civilian killings, as hundreds of bodies are found in towns around Kyiv.\\nWestern powers have vowed to hold Russia accountable for the killing of civilians in the town of Bucha and other areas around Kyiv, accusing Moscow of a terrible war crime.\",\"keywords\":\"\",\"language\":\"en\",\"isSafe\":true,\"datePublished\":\"2022-04-03T19:17:25\",\"provider\":{\"name\":\"yahoo\",\"favIcon\":\"\",\"favIconBase64Encoding\":\"\"},\"image\":{\"url\":\"_uNHvA1pxlEGHcWyFnSA--~B/aD02ODM7dz0xMDI0O2FwcGlkPXl0YWNoeW9u/_independent_577/1b0e711c9336ede2936d87c82cd894a4\",\"height\":0,\"width\":0,\"thumbnail\":\"\",\"thumbnailHeight\":0,\"thumbnailWidth\":0,\"base64Encoding\":\"\",\"name\":null,\"title\":null,\"provider\":{\"name\":\"yahoo\",\"favIcon\":\"\",\"favIconBase64Encoding\":\"\"},\"imageWebSearchUrl\":null,\"webpageUrl\":\"-war-crime-killing-civilians-182751913.html\"}}]}\n",
      "*** JSON from data string:  <class 'dict'> {'_type': 'news', 'didUMean': '', 'totalCount': 26, 'relatedSearch': [], 'value': [{'id': '2456037419726511376', 'title': 'A terrible war crime: Killing of civilians in Ukraines Bucha sparks outrage and calls for new sanctions', 'url': '-war-crime-killing-civilians-182751913.html', 'description': 'Western nations unite in condemnation of Russia over civilian killings, as hundreds of bodies are found in towns around Kyiv', 'body': 'Vladimir Putin\\nPresident of Russia\\nWestern powers have vowed to hold Russia accountable for the killing of civilians in the town of Bucha and other areas around Kyiv, accusing Moscow of a terrible war crime.\\nOfficials in Ukraine said that troops had found civilian corpses with bound hands, gunshot wounds to the head, and showing signs of torture, after Russian soldiers withdrew from the outskirts of Kyiv. The Ukrainian government has accused Russias armed forces of carrying out a massacre and genocide.\\nAfter Ukraine announced on Saturday that it had reclaimed control of the Kyiv region  the first time it has done so since Vladimir Putinlaunched his invasion on 24 February  the mayor of Bucha, a liberated town 37 km northwest of the capital, said that hundreds of its residents had been killed by the Russian army.\\nUkrainian prosecutors investigating possible war crimes by Russiahave so far found 410 bodies in various towns near Kyiv, the countrys prosecutor general Iryna Venedyktova said later on Sunday.\\nCommunal workers carry the body of a civilian man killed by Russian shelling in the town of Bucha (AFP via Getty)\\nThe photographs of bodies strewn across the street, wrapped in bin bags and buried in mass graves, in Bucha as well as in the Kyiv suburbs of Irpin and Hostomel, spurred calls from officials in Ukraine, and vows from ministers across Europe, to impose tougher sanctions on Moscow.\\nOleksiy Arestovych, an adviser to Ukrainian president Volodymyr Zelensky, said the scores of dead looked like a scene from a horror movie, while Ukraines foreign minister, Dmytro Kuleba, said: Bucha massacre was deliberate. We are still gathering and looking for bodies, but the number has already gone into the hundreds.\\n\"Dead bodies lie on the streets. They killed civilians while staying there and when they were leaving these villages and towns.\\nMr Kuleba urged G7 nations to impose \"devastating\" new sanctions on Moscow to target its oil, gas, and coal industries, goods exports, and financial sector, and asked the International Criminal Court (ICC) to collect evidence of what he called war crimes.\\nStory continues\\nA soldier surveys the destruction left in Bucha (Zohra Bensemra/Reuters)\\nIn an interview with CBS Newslater on Sunday, Mr Zelensky himself said Russia was committing genocide against his country.\\nIndeed, this is genocide. The elimination of the whole nation and the people, he said, speaking through a translator. We are the citizens of Ukraine and we dont want to be subdued to the policy of Russian Federation. This is the reason we are being destroyed and exterminated.\\nRussias defence ministry denied that its forces had killed civilians in Bucha, and described photos and videos from the town as \"another staged performance by the Kyiv regime for the Western media\".\\nMoscow has previously denied targeting civilians and has rejected allegations of war crimes in what it calls a \"special military operation\" aimed at demilitarising and \"denazifying\" Ukraine.\\nThe foreign ministers of France, Germany, the UK and US were among those to condemn Russia over the reports from Bucha.\\nGerman chancellor Olaf Scholz prepares to give a statement about the killings in Bucha (AFP via Getty Images)\\nUS secretary of state Antony Blinken said the images of dead civilians were a punch in the gut and that those responsible must be held accountable.\\nUK prime minister Boris Johnson denounced Russias \"despicable attacks\" against civilians in Bucha and Irpin, describing them as war crimes and pledging increased sanctions and military support for Ukraine. The British government has vowed to support any war crimes investigation by the ICC and Mr Johnson said it would provide additional funding and investigators for the court.\\nEarlier, Foreign Secretary Liz Truss said \"indiscriminate\" attacks by Russian forces against innocent civilians must be investigated as war crimes and that the UK would \"not rest\" until those responsible for \"atrocities\" in Ukraine had faced justice. Ms Truss added that Russia would not be allowed to cover up its involvement through \"cynical disinformation\".\\nFrench president Emmanuel Macron, who has spoken frequently with Mr Putin in recent weeks, called the pictures \"unbearable\" and said Moscow will have to answer for these crimes, while Germanys vice chancellor Robert Habeck said the killings were a terrible war crime [that] cannot go unanswered.\\nThis map shows the extent of Russian invasion of Ukraine (Press Association Images)\\nLater, Germanys leader Olaf Scholz announced that western allies would agree further sanctions on Russia in the coming days over its invasion and the atrocities committed by Kremlin forces in Bucha.\\nNato head Jens Stoltenberg described the killings as \"a brutality against civilians not seen in Europe for decades, while UN chief Antonio Guterres said he was deeply shocked by the images and called for an independent investigation into the deaths.\\nMeanwhile, fighting continued across Ukraine on Sunday in the sixth week of a war that has driven more than 4 million people out of Ukraine as refugees and uprooted at least 6.5 million people within the country.\\nMissiles struck near the southern port of Odesa, with Russia saying it had destroyed an oil refineryand fuel depots used by the Ukrainian military to supply its troops.\\nUkraines Zelensky says Putin is committing genocide\\nThe regional governor in northeastern Kharkiv said that Russian artillery and tanks performed over 20 strikes on Ukraines second largest city and its outskirts over the past day, killing some civilians and injuring 23 - although he did not give a death toll.\\nEvacuation efforts in southeastern Mariupol and nearby Berdyansk were set to continue with a convoy of buses being prepared with help from the Red Cross, although The Independent understands that hopes are low after several previous failed attempts.\\nThe strategic port city is Russias main target in the Donbas region, and tens of thousands of civilians there have been trapped for weeks with very little to eat or drink. Several people who managed to escape the city by their own means told The Independent on Saturdaythat people there were burying bodies of those killed by shelling in mass graves in nursery schools, gardens and parks.\\nThere was little sign of a breakthrough on Sunday in efforts to negotiate an end to the conflict, although Russias chief negotiator, Vladimir Medinsky, said talks were set to resume on Monday via videoconference.\\nUkrainian negotiator David Arakhamia said enough progress had been made for direct talks between Mr Zelensky and Mr Putin.\\nAdvertisement', 'snippet': 'Western nations unite in condemnation of Russia over civilian killings, as hundreds of bodies are found in towns around Kyiv.\\nWestern powers have vowed to hold Russia accountable for the killing of civilians in the town of Bucha and other areas around Kyiv, accusing Moscow of a terrible war crime.', 'keywords': '', 'language': 'en', 'isSafe': True, 'datePublished': '2022-04-03T19:17:25', 'provider': {'name': 'yahoo', 'favIcon': '', 'favIconBase64Encoding': ''}, 'image': {'url': '_uNHvA1pxlEGHcWyFnSA--~B/aD02ODM7dz0xMDI0O2FwcGlkPXl0YWNoeW9u/_independent_577/1b0e711c9336ede2936d87c82cd894a4', 'height': 0, 'width': 0, 'thumbnail': '', 'thumbnailHeight': 0, 'thumbnailWidth': 0, 'base64Encoding': '', 'name': None, 'title': None, 'provider': {'name': 'yahoo', 'favIcon': '', 'favIconBase64Encoding': ''}, 'imageWebSearchUrl': None, 'webpageUrl': '-war-crime-killing-civilians-182751913.html'}}]}\n",
      "*** Written to data.json. API call and processing done\n",
      "**** URL Connect Fetch Error ****\n",
      "**** Reading from last updated file ****\n",
      "<class 'str'>\n",
      "**** Completed Reading from last file ****\n"
     ]
    },
    {
     "data": {
      "text/html": [
       "<div>\n",
       "<style scoped>\n",
       "    .dataframe tbody tr th:only-of-type {\n",
       "        vertical-align: middle;\n",
       "    }\n",
       "\n",
       "    .dataframe tbody tr th {\n",
       "        vertical-align: top;\n",
       "    }\n",
       "\n",
       "    .dataframe thead th {\n",
       "        text-align: right;\n",
       "    }\n",
       "</style>\n",
       "<table border=\"1\" class=\"dataframe\">\n",
       "  <thead>\n",
       "    <tr style=\"text-align: right;\">\n",
       "      <th></th>\n",
       "      <th>id</th>\n",
       "      <th>title</th>\n",
       "      <th>description</th>\n",
       "      <th>body</th>\n",
       "      <th>datePublished</th>\n",
       "      <th>sentiment</th>\n",
       "    </tr>\n",
       "  </thead>\n",
       "  <tbody>\n",
       "    <tr>\n",
       "      <th>0</th>\n",
       "      <td>2456037419726511616</td>\n",
       "      <td>A terrible war crime: Killing of civilians in ...</td>\n",
       "      <td>Western nations unite in condemnation of Russi...</td>\n",
       "      <td>Vladimir Putin\\nPresident of Russia\\nWestern p...</td>\n",
       "      <td>2022-04-03T19:17:25</td>\n",
       "      <td>Negative:-85.19%</td>\n",
       "    </tr>\n",
       "  </tbody>\n",
       "</table>\n",
       "</div>"
      ],
      "text/plain": [
       "                    id                                              title  \\\n",
       "0  2456037419726511616  A terrible war crime: Killing of civilians in ...   \n",
       "\n",
       "                                         description  \\\n",
       "0  Western nations unite in condemnation of Russi...   \n",
       "\n",
       "                                                body        datePublished  \\\n",
       "0  Vladimir Putin\\nPresident of Russia\\nWestern p...  2022-04-03T19:17:25   \n",
       "\n",
       "          sentiment  \n",
       "0  Negative:-85.19%  "
      ]
     },
     "execution_count": 4,
     "metadata": {},
     "output_type": "execute_result"
    }
   ],
   "source": [
    "df = GetDFFromUrl(pagesize)\n",
    "df.head()"
   ]
  },
  {
   "cell_type": "code",
   "execution_count": null,
   "id": "dda5fa65-2c28-41c1-819a-6f2ff6434d74",
   "metadata": {},
   "outputs": [],
   "source": []
  }
 ],
 "metadata": {
  "kernelspec": {
   "display_name": "Python 3",
   "language": "python",
   "name": "python3"
  },
  "language_info": {
   "codemirror_mode": {
    "name": "ipython",
    "version": 3
   },
   "file_extension": ".py",
   "mimetype": "text/x-python",
   "name": "python",
   "nbconvert_exporter": "python",
   "pygments_lexer": "ipython3",
   "version": "3.8.8"
  }
 },
 "nbformat": 4,
 "nbformat_minor": 5
}

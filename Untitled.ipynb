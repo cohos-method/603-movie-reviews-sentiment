{
 "cells": [
  {
   "cell_type": "code",
   "execution_count": 37,
   "id": "d0eb3a0e-128a-4df7-ae11-a6c9f5144913",
   "metadata": {},
   "outputs": [],
   "source": [
    "import dash\n",
    "from dash import dcc, html\n",
    "from dash.dependencies import Input, Output, State\n",
    "from dash.exceptions import PreventUpdate\n",
    "from helpers.key_finder import api_key\n",
    "from helpers.api_call import *\n",
    "from helpers.vader import sentiment_scores\n",
    "from vaderSentiment.vaderSentiment import SentimentIntensityAnalyzer\n",
    "\n",
    "import dash_table\n",
    "from wordcloud import WordCloud, STOPWORDS\n",
    "import plotly.graph_objs as go\n",
    "import re\n",
    "import json\n",
    "import requests\n",
    "import string\n",
    "\n",
    "\n",
    "datajson = \"\"\n",
    "pagesize = 1\n",
    "stopwords = ['a', 'about', 'above', 'after', 'again', 'against', 'all', 'am', 'an', 'and', 'any', 'are', \"aren't\", 'as', 'at', 'be', 'because', 'been', 'before', 'being', 'below', 'between', 'both', 'but', 'by', \"can't\", 'cannot', 'could', \"couldn't\", 'did', \"didn't\", 'do', 'does', \"doesn't\", 'doing', \"don't\", 'down', 'during', 'each', 'few', 'for', 'from', 'further', 'had', \"hadn't\", 'has', \"hasn't\", 'have', \"haven't\", 'having', 'he', \"he'd\", \"he'll\", \"he's\", 'her', 'here', \"here's\", 'hers', 'herself', 'him', 'himself', 'his', 'how', \"how's\", 'i', \"i'd\", \"i'll\", \"i'm\", \"i've\", 'if', 'in', 'into', 'is', \"isn't\", 'it', \"it's\", 'its', 'itself', \"let's\", 'me', 'more', 'most', \"mustn't\", 'my', 'myself', 'no', 'nor', 'not', 'of', 'off', 'on', 'once', 'only', 'or', 'other', 'ought', 'our', 'ours', 'ourselves', 'out', 'over', 'own', 'same', \"shan't\", 'she', \"she'd\", \"she'll\", \"she's\", 'should', \"shouldn't\", 'so', 'some', 'such', 'than', 'that', \"that's\", 'the', 'their', 'theirs', 'them', 'themselves', 'then', 'there', \"there's\", 'these', 'they', \"they'd\", \"they'll\", \"they're\", \"they've\", 'this', 'those', 'through', 'to', 'too', 'under', 'until', 'up', 'very', 'was', \"wasn't\", 'we', \"we'd\", \"we'll\", \"we're\", \"we've\", 'were', \"weren't\", 'what', \"what's\", 'when', \"when's\", 'where', \"where's\", 'which', 'while', 'who', \"who's\", 'whom', 'why', \"why's\", 'with', \"won't\", 'would', \"wouldn't\", 'you', \"you'd\", \"you'll\", \"you're\", \"you've\", 'your', 'yours', 'yourself', 'yourselves']\n",
    "\n",
    "def prettyPrint(jsonobj):\n",
    "    str_json = json.dumps(jsonobj, indent=4)\n",
    "    #print(str_json)\n",
    "    return str_json\n",
    "\n",
    "def getJsonFromUrl(pagesize):\n",
    "    jsonobj = None\n",
    "    try:\n",
    "        url = \"https://contextualwebsearch-websearch-v1.p.rapidapi.com/api/search/TrendingNewsAPI\"\n",
    "\n",
    "        querystring = {\"pageNumber\":\"1\",\"pageSize\":pagesize,\"withThumbnails\":\"false\",\"location\":\"us\"}\n",
    "\n",
    "        headers = {\n",
    "        \"X-RapidAPI-Host\": \"contextualwebsearch-websearch-v1.p.rapidapi.com\",\n",
    "        \"X-RapidAPI-Key\": \"795e2b56a5msh6347a77a22a537ep1bdd10jsn47bfe5198a9b\"\n",
    "        }\n",
    "\n",
    "        response = requests.request(\"GET\", url, headers=headers, params=querystring)\n",
    "        print(\"*** API Call Response: \", response)\n",
    "        datajson = response.text\n",
    "        \n",
    "        datajson = re.sub(r'https?://[A-Za-z0-9./]+', '', datajson)\n",
    "        print(\"*** Data from Response: \", datajson)\n",
    "        \n",
    "        jsonobj = json.loads(datajson)\n",
    "        print(\"*** JSON from data string: \", type(jsonobj), jsonobj)\n",
    "        \n",
    "        with open(\"data.json\", \"w\") as write_file:\n",
    "            json.dump(jsonobj, write_file, indent=4)\n",
    "        print(\"*** Written to data.json. API call and processing done\")\n",
    "        raise exception()\n",
    "    except:\n",
    "        print  (\"**** URL Connect Fetch Error ****\")\n",
    "        print  (\"**** Reading from last updated file ****\")\n",
    "        jsonobj = readJsonFromFile()\n",
    "        print  (\"**** Completed Reading from last file ****\")\n",
    "        \n",
    "    return jsonobj\n",
    "\n",
    "def readJsonFromFile():\n",
    "    with open(\"data.json\", \"r\") as read_file:\n",
    "        xu = read_file.readlines()\n",
    "        xu = \"\".join(xu)\n",
    "        print(type(xu))\n",
    "        jsonobj =  json.loads(xu)\n",
    "    return jsonobj\n",
    "\n",
    "def removeKeys(jsonobj, keystoremove):\n",
    "    try:\n",
    "        for i in keystoremove:\n",
    "            #print(i)\n",
    "            jsonobj.pop(i)\n",
    "    except:\n",
    "        None\n",
    "    return jsonobj\n",
    "\n",
    "def getDfFromJson(jsonobj):\n",
    "    keystoremove =  [\"_type\",\"didUMean\",\"totalCount\",\"relatedSearch\"]\n",
    "    \n",
    "    jsonobj = removeKeys(jsonobj, keystoremove)\n",
    "    jsonobj = jsonobj['value']\n",
    "    #print(jsonobj)\n",
    "    \n",
    "    colstoremove = ['url','snippet', 'keywords', 'language', 'isSafe', 'provider', 'image']\n",
    "    \n",
    "    for i in jsonobj:\n",
    "        i = removeKeys(i, colstoremove)\n",
    "        \n",
    "    str_json = json.dumps(jsonobj)\n",
    "    df = pd.read_json(str_json)\n",
    "    \n",
    "    return df\n",
    "\n",
    "def sentimentScores(sentence):\n",
    "    sid_obj = SentimentIntensityAnalyzer()\n",
    " \n",
    "    sentiment_dict = sid_obj.polarity_scores(sentence)\n",
    "    \n",
    "    \n",
    "    score = (sentiment_dict['compound'])*100.00\n",
    "    \n",
    "    if score >= 0.05 :\n",
    "        final=f\"Positive:{round(score,2)}%\"\n",
    "            \n",
    "    elif score <= - 0.05 :\n",
    "        final=f\"Negative:{round(score,2)}%\"\n",
    "            \n",
    "    else :\n",
    "        final=f\"Neutral:{round(score,2)}%\"\n",
    "            \n",
    "    return final\n",
    "\n",
    "def GetDFFromUrl(pagesize):\n",
    "    jsonobj = getJsonFromUrl(pagesize)\n",
    "    df = getDfFromJson(jsonobj)\n",
    "    df['sentiment'] = df['description'].apply(lambda x: sentimentScores(x))\n",
    "    return df\n",
    "\n",
    "def generate_table(df):\n",
    "    \"\"\"Create Dash datatable from Pandas DataFrame.\"\"\"\n",
    "    \n",
    "    table = dash_table.DataTable(\n",
    "        id='database-table',\n",
    "        columns=[{\"name\": i, \"id\": i} for i in df.columns],\n",
    "        data=df.iloc[:30].to_dict('records'),\n",
    "        sort_action=\"native\",\n",
    "        sort_mode='native',\n",
    "        row_selectable=\"multi\",\n",
    "        style_table={\n",
    "                'maxHeight': '50ex',\n",
    "                'overflowY': 'scroll',\n",
    "                'width': '100%',\n",
    "                'minwidth': '100%',\n",
    "                'display': 'block'\n",
    "            },\n",
    "        style_header={\n",
    "            'fontWeight': 'bold',\n",
    "            'border': 'thin lightgrey solid',\n",
    "            'backgroundColor': 'rgb(100, 100, 100)',\n",
    "            'color': 'white'\n",
    "            },\n",
    "        style_cell={\n",
    "            'fontFamily': 'Open Sans',\n",
    "            'textAlign': 'left',\n",
    "            'width': '100px',\n",
    "            'minWidth': '10px',\n",
    "            'maxWidth': '180px',\n",
    "            'whiteSpace': 'normal',\n",
    "            'backgroundColor': 'Rgb(230,230,250)'\n",
    "        }\n",
    "    )\n",
    "    return table\n",
    "\n",
    "def replPunct(s, punct):\n",
    "    for c in punct:\n",
    "        #print (c)\n",
    "        s = s.replace(c,\"\")\n",
    "    return s\n",
    "\n",
    "\n",
    "def bagOfWords(df):\n",
    "    punct = string.punctuation \n",
    "    #punct = punct.replace(\"|\",\"\")\n",
    "    stopwords = ['a', 'about', 'above', 'after', 'again', 'against', 'all', 'am', 'an', 'and', 'any', 'are', \"aren't\", 'as', 'at', 'be', 'because', 'been', 'before', 'being', 'below', 'between', 'both', 'but', 'by', \"can't\", 'cannot', 'could', \"couldn't\", 'did', \"didn't\", 'do', 'does', \"doesn't\", 'doing', \"don't\", 'down', 'during', 'each', 'few', 'for', 'from', 'further', 'had', \"hadn't\", 'has', \"hasn't\", 'have', \"haven't\", 'having', 'he', \"he'd\", \"he'll\", \"he's\", 'her', 'here', \"here's\", 'hers', 'herself', 'him', 'himself', 'his', 'how', \"how's\", 'i', \"i'd\", \"i'll\", \"i'm\", \"i've\", 'if', 'in', 'into', 'is', \"isn't\", 'it', \"it's\", 'its', 'itself', \"let's\", 'me', 'more', 'most', \"mustn't\", 'my', 'myself', 'no', 'nor', 'not', 'of', 'off', 'on', 'once', 'only', 'or', 'other', 'ought', 'our', 'ours', 'ourselves', 'out', 'over', 'own', 'same', \"shan't\", 'she', \"she'd\", \"she'll\", \"she's\", 'should', \"shouldn't\", 'so', 'some', 'such', 'than', 'that', \"that's\", 'the', 'their', 'theirs', 'them', 'themselves', 'then', 'there', \"there's\", 'these', 'they', \"they'd\", \"they'll\", \"they're\", \"they've\", 'this', 'those', 'through', 'to', 'too', 'under', 'until', 'up', 'very', 'was', \"wasn't\", 'we', \"we'd\", \"we'll\", \"we're\", \"we've\", 'were', \"weren't\", 'what', \"what's\", 'when', \"when's\", 'where', \"where's\", 'which', 'while', 'who', \"who's\", 'whom', 'why', \"why's\", 'with', \"won't\", 'would', \"wouldn't\", 'you', \"you'd\", \"you'll\", \"you're\", \"you've\", 'your', 'yours', 'yourself', 'yourselves']\n",
    "    s = ''\n",
    "\n",
    "    cols = ['title', 'description', 'body']\n",
    "    for c in cols:\n",
    "        datalst = df[c].tolist()\n",
    "        for d in datalst:\n",
    "            d = replPunct(d, punct)\n",
    "            #d = d.replace(\" \", \"|\")\n",
    "            s += d + \" \"\n",
    "\n",
    "    sl = s.split(\" \")\n",
    "    #sl = list(set(sl))\n",
    "    return (sl)\n",
    "    \n",
    "def reduceByWord(df):\n",
    "\n",
    "    \n",
    "    wordlist = bagOfWords(df)\n",
    "\n",
    "    stopwords = ['a', 'about', 'above', 'after', 'again', 'against', 'all', 'am', 'an', 'and', 'any', 'are', \"aren't\", 'as', 'at', 'be', 'because', 'been', 'before', 'being', 'below', 'between', 'both', 'but', 'by', \"can't\", 'cannot', 'could', \"couldn't\", 'did', \"didn't\", 'do', 'does', \"doesn't\", 'doing', \"don't\", 'down', 'during', 'each', 'few', 'for', 'from', 'further', 'had', \"hadn't\", 'has', \"hasn't\", 'have', \"haven't\", 'having', 'he', \"he'd\", \"he'll\", \"he's\", 'her', 'here', \"here's\", 'hers', 'herself', 'him', 'himself', 'his', 'how', \"how's\", 'i', \"i'd\", \"i'll\", \"i'm\", \"i've\", 'if', 'in', 'into', 'is', \"isn't\", 'it', \"it's\", 'its', 'itself', \"let's\", 'me', 'more', 'most', \"mustn't\", 'my', 'myself', 'no', 'nor', 'not', 'of', 'off', 'on', 'once', 'only', 'or', 'other', 'ought', 'our', 'ours', 'ourselves', 'out', 'over', 'own', 'same', \"shan't\", 'she', \"she'd\", \"she'll\", \"she's\", 'should', \"shouldn't\", 'so', 'some', 'such', 'than', 'that', \"that's\", 'the', 'their', 'theirs', 'them', 'themselves', 'then', 'there', \"there's\", 'these', 'they', \"they'd\", \"they'll\", \"they're\", \"they've\", 'this', 'those', 'through', 'to', 'too', 'under', 'until', 'up', 'very', 'was', \"wasn't\", 'we', \"we'd\", \"we'll\", \"we're\", \"we've\", 'were', \"weren't\", 'what', \"what's\", 'when', \"when's\", 'where', \"where's\", 'which', 'while', 'who', \"who's\", 'whom', 'why', \"why's\", 'with', \"won't\", 'would', \"wouldn't\", 'you', \"you'd\", \"you'll\", \"you're\", \"you've\", 'your', 'yours', 'yourself', 'yourselves']\n",
    "    wordfreq = []\n",
    "\n",
    "    for w in wordlist:\n",
    "        if (w in stopwords):\n",
    "            x = 0\n",
    "        else:\n",
    "            x = wordlist.count(w)\n",
    "\n",
    "        wordfreq.append(x)\n",
    "\n",
    "    d = {}\n",
    "    for i  in range(len(wordlist)):\n",
    "        ik = wordlist[i]\n",
    "        il = wordfreq[i]\n",
    "        d[ik] = d.get(ik, 0)+ il\n",
    "    #print(d.keys(), d.values())\n",
    "\n",
    "    dic = {\"word\":d.keys(), \"freq\":d.values()}\n",
    "    dfwf = pd.DataFrame.from_dict(dic)\n",
    "    dfwf['freq'].astype(int)\n",
    "    dfwf = dfwf[ dfwf['freq'] > 0]\n",
    "    dfwf.sort_values(by='freq',ascending=False, inplace=True)\n",
    "    \n",
    "    return dfwf\n",
    "\n",
    "\n",
    "def plotly_wordcloud(text):\n",
    "    wc = WordCloud(stopwords = set(STOPWORDS),\n",
    "                   max_words = 200,\n",
    "                   max_font_size = 100)\n",
    "    wc.generate(text)\n",
    "    \n",
    "    word_list=[]\n",
    "    freq_list=[]\n",
    "    fontsize_list=[]\n",
    "    position_list=[]\n",
    "    orientation_list=[]\n",
    "    color_list=[]\n",
    "\n",
    "    for (word, freq), fontsize, position, orientation, color in wc.layout_:\n",
    "        word_list.append(word)\n",
    "        freq_list.append(freq)\n",
    "        fontsize_list.append(fontsize)\n",
    "        position_list.append(position)\n",
    "        orientation_list.append(orientation)\n",
    "        color_list.append(color)\n",
    "        \n",
    "    # get the positions\n",
    "    x=[]\n",
    "    y=[]\n",
    "    for i in position_list:\n",
    "        x.append(i[0])\n",
    "        y.append(i[1])\n",
    "            \n",
    "    # get the relative occurence frequencies\n",
    "    new_freq_list = []\n",
    "    for i in freq_list:\n",
    "        new_freq_list.append(i*100)\n",
    "    new_freq_list\n",
    "    \n",
    "    trace = go.Scatter(x=x, \n",
    "                       y=y, \n",
    "                       textfont = dict(size=new_freq_list,\n",
    "                                       color=color_list),\n",
    "                       hoverinfo='text',\n",
    "                       hovertext=['{0}{1}'.format(w, f) for w, f in zip(word_list, freq_list)],\n",
    "                       mode='text',  \n",
    "                       text=word_list\n",
    "                      )\n",
    "    \n",
    "    layout = go.Layout({'xaxis': {'showgrid': False, 'showticklabels': False, 'zeroline': False},\n",
    "                        'yaxis': {'showgrid': False, 'showticklabels': False, 'zeroline': False}},\n",
    "                           width=1000, \n",
    "                           height=600)\n",
    "    \n",
    "    fig = go.Figure(data=[trace], layout=layout)\n",
    "    \n",
    "    return fig\n"
   ]
  },
  {
   "cell_type": "code",
   "execution_count": 38,
   "id": "15dc7708-b493-40a9-a5c7-5148bdf0a536",
   "metadata": {},
   "outputs": [
    {
     "name": "stdout",
     "output_type": "stream",
     "text": [
      "*** API Call Response:  <Response [200]>\n",
      "*** Data from Response:  {\"_type\":\"news\",\"didUMean\":\"\",\"totalCount\":25,\"relatedSearch\":[],\"value\":[{\"id\":\"2038646232225956412\",\"title\":\"Russia-Ukraine war news: Live updates\",\"url\":\"-ukraine-war-news-putin-live-updates/\",\"description\":\"U.S. Secretary of State Antony Blinken vowed to use every tool available to pursue those responsible for apparent atrocities in Ukraine.\",\"body\":\"Sources: Institute for the Study of War, AEI's Critical Threats Project, Post reporting\\nKyiv region:\\nThe departure of Moscows troops from around the capital has revealed alleged atrocities in nearby towns, sparking a global outcry. Video verified by The Washington Post showed bodies on the streets of Bucha, a suburb northwest of Kyiv. Journalists and Ukrainian officials said the hands of some corpses had been bound.\\nDonbas region:\\nMoscows forces are moving their focus from the capital to the south and east, setting the stage for a new phase in the conflict that military analysts warn could be long and bloody.\\nMariupol:\\nThe Red Cross said Sunday that it had not reached this hard-hit port city, where as many as 100,000 people remain trapped after weeks of heavy fighting. The city has long been a strategic target for Moscow because it had provided a land corridor to Russian-occupied Crimea. It continues to face intense, indiscriminate strikes, according to Britains Defense Ministry, which said Ukrainian forces retain control of central areas.\\nMykolaiv:\\nMissile strikes were reported Sunday in this southern port city that has been on the front lines of Ukraines fight against Russian artillery. A Russian missile hit the regional administration building last week, killing at least 36 people, according to local authorities.\\nOdessa:\\nExplosions rocked Odessa early Sunday as Russia said its missiles struck an oil refinery and fuel storage facilities, sending thick dark plumes of smoke into the sky in the first major strikes on the strategic Black Sea port citys downtown.\\nAnnabelle Chapman and Jon Gerberg contributed to this report.\\nAdvertisement\",\"snippet\":\"U.<b>S</b>.\\n<b>S</b>ecretary of <b>S</b>tate Antony Blinken vowed to use every tool available to pursue those responsible for apparent atrocities in Ukraine.\",\"keywords\":\"\",\"language\":\"en\",\"isSafe\":true,\"datePublished\":\"2022-04-04T05:02:19.093\",\"provider\":{\"name\":\"washingtonpost\",\"favIcon\":\"\",\"favIconBase64Encoding\":\"\"},\"image\":{\"url\":\"-apps/imrs.php?src=-03-2022/t_8996f2bcd98543009f42800b6c7cc915_name_0f0918c0_b38b_11ec_8358_20aa16355fb4_scaled.jpg&amp;w=1440\",\"height\":0,\"width\":0,\"thumbnail\":\"\",\"thumbnailHeight\":0,\"thumbnailWidth\":0,\"base64Encoding\":\"\",\"name\":null,\"title\":null,\"provider\":{\"name\":\"washingtonpost\",\"favIcon\":\"\",\"favIconBase64Encoding\":\"\"},\"imageWebSearchUrl\":null,\"webpageUrl\":\"-ukraine-war-news-putin-live-updates/\"}}]}\n",
      "*** JSON from data string:  <class 'dict'> {'_type': 'news', 'didUMean': '', 'totalCount': 25, 'relatedSearch': [], 'value': [{'id': '2038646232225956412', 'title': 'Russia-Ukraine war news: Live updates', 'url': '-ukraine-war-news-putin-live-updates/', 'description': 'U.S. Secretary of State Antony Blinken vowed to use every tool available to pursue those responsible for apparent atrocities in Ukraine.', 'body': \"Sources: Institute for the Study of War, AEI's Critical Threats Project, Post reporting\\nKyiv region:\\nThe departure of Moscows troops from around the capital has revealed alleged atrocities in nearby towns, sparking a global outcry. Video verified by The Washington Post showed bodies on the streets of Bucha, a suburb northwest of Kyiv. Journalists and Ukrainian officials said the hands of some corpses had been bound.\\nDonbas region:\\nMoscows forces are moving their focus from the capital to the south and east, setting the stage for a new phase in the conflict that military analysts warn could be long and bloody.\\nMariupol:\\nThe Red Cross said Sunday that it had not reached this hard-hit port city, where as many as 100,000 people remain trapped after weeks of heavy fighting. The city has long been a strategic target for Moscow because it had provided a land corridor to Russian-occupied Crimea. It continues to face intense, indiscriminate strikes, according to Britains Defense Ministry, which said Ukrainian forces retain control of central areas.\\nMykolaiv:\\nMissile strikes were reported Sunday in this southern port city that has been on the front lines of Ukraines fight against Russian artillery. A Russian missile hit the regional administration building last week, killing at least 36 people, according to local authorities.\\nOdessa:\\nExplosions rocked Odessa early Sunday as Russia said its missiles struck an oil refinery and fuel storage facilities, sending thick dark plumes of smoke into the sky in the first major strikes on the strategic Black Sea port citys downtown.\\nAnnabelle Chapman and Jon Gerberg contributed to this report.\\nAdvertisement\", 'snippet': 'U.<b>S</b>.\\n<b>S</b>ecretary of <b>S</b>tate Antony Blinken vowed to use every tool available to pursue those responsible for apparent atrocities in Ukraine.', 'keywords': '', 'language': 'en', 'isSafe': True, 'datePublished': '2022-04-04T05:02:19.093', 'provider': {'name': 'washingtonpost', 'favIcon': '', 'favIconBase64Encoding': ''}, 'image': {'url': '-apps/imrs.php?src=-03-2022/t_8996f2bcd98543009f42800b6c7cc915_name_0f0918c0_b38b_11ec_8358_20aa16355fb4_scaled.jpg&amp;w=1440', 'height': 0, 'width': 0, 'thumbnail': '', 'thumbnailHeight': 0, 'thumbnailWidth': 0, 'base64Encoding': '', 'name': None, 'title': None, 'provider': {'name': 'washingtonpost', 'favIcon': '', 'favIconBase64Encoding': ''}, 'imageWebSearchUrl': None, 'webpageUrl': '-ukraine-war-news-putin-live-updates/'}}]}\n",
      "*** Written to data.json. API call and processing done\n",
      "**** URL Connect Fetch Error ****\n",
      "**** Reading from last updated file ****\n",
      "<class 'str'>\n",
      "**** Completed Reading from last file ****\n"
     ]
    },
    {
     "data": {
      "text/html": [
       "<div>\n",
       "<style scoped>\n",
       "    .dataframe tbody tr th:only-of-type {\n",
       "        vertical-align: middle;\n",
       "    }\n",
       "\n",
       "    .dataframe tbody tr th {\n",
       "        vertical-align: top;\n",
       "    }\n",
       "\n",
       "    .dataframe thead th {\n",
       "        text-align: right;\n",
       "    }\n",
       "</style>\n",
       "<table border=\"1\" class=\"dataframe\">\n",
       "  <thead>\n",
       "    <tr style=\"text-align: right;\">\n",
       "      <th></th>\n",
       "      <th>id</th>\n",
       "      <th>title</th>\n",
       "      <th>description</th>\n",
       "      <th>body</th>\n",
       "      <th>datePublished</th>\n",
       "      <th>sentiment</th>\n",
       "    </tr>\n",
       "  </thead>\n",
       "  <tbody>\n",
       "    <tr>\n",
       "      <th>0</th>\n",
       "      <td>2038646232225956352</td>\n",
       "      <td>Russia-Ukraine war news: Live updates</td>\n",
       "      <td>U.S. Secretary of State Antony Blinken vowed t...</td>\n",
       "      <td>Sources: Institute for the Study of War, AEI's...</td>\n",
       "      <td>2022-04-04T05:02:19.093</td>\n",
       "      <td>Positive:31.82%</td>\n",
       "    </tr>\n",
       "  </tbody>\n",
       "</table>\n",
       "</div>"
      ],
      "text/plain": [
       "                    id                                  title  \\\n",
       "0  2038646232225956352  Russia-Ukraine war news: Live updates   \n",
       "\n",
       "                                         description  \\\n",
       "0  U.S. Secretary of State Antony Blinken vowed t...   \n",
       "\n",
       "                                                body            datePublished  \\\n",
       "0  Sources: Institute for the Study of War, AEI's...  2022-04-04T05:02:19.093   \n",
       "\n",
       "         sentiment  \n",
       "0  Positive:31.82%  "
      ]
     },
     "execution_count": 38,
     "metadata": {},
     "output_type": "execute_result"
    }
   ],
   "source": [
    "df = GetDFFromUrl(pagesize)\n",
    "df.head()"
   ]
  },
  {
   "cell_type": "code",
   "execution_count": 39,
   "id": "a3c32679-3f09-449d-a15d-bdcc393d35a5",
   "metadata": {
    "tags": []
   },
   "outputs": [
    {
     "data": {
      "text/plain": [
       "DataTable(columns=[{'name': 'id', 'id': 'id'}, {'name': 'title', 'id': 'title'}, {'name': 'description', 'id': 'description'}, {'name': 'body', 'id': 'body'}, {'name': 'datePublished', 'id': 'datePublished'}, {'name': 'sentiment', 'id': 'sentiment'}], data=[{'id': 2038646232225956352, 'title': 'Russia-Ukraine war news: Live updates', 'description': 'U.S. Secretary of State Antony Blinken vowed to use every tool available to pursue those responsible for apparent atrocities in Ukraine.', 'body': \"Sources: Institute for the Study of War, AEI's Critical Threats Project, Post reporting\\nKyiv region:\\nThe departure of Moscows troops from around the capital has revealed alleged atrocities in nearby towns, sparking a global outcry. Video verified by The Washington Post showed bodies on the streets of Bucha, a suburb northwest of Kyiv. Journalists and Ukrainian officials said the hands of some corpses had been bound.\\nDonbas region:\\nMoscows forces are moving their focus from the capital to the south and east, setting the stage for a new phase in the conflict that military analysts warn could be long and bloody.\\nMariupol:\\nThe Red Cross said Sunday that it had not reached this hard-hit port city, where as many as 100,000 people remain trapped after weeks of heavy fighting. The city has long been a strategic target for Moscow because it had provided a land corridor to Russian-occupied Crimea. It continues to face intense, indiscriminate strikes, according to Britains Defense Ministry, which said Ukrainian forces retain control of central areas.\\nMykolaiv:\\nMissile strikes were reported Sunday in this southern port city that has been on the front lines of Ukraines fight against Russian artillery. A Russian missile hit the regional administration building last week, killing at least 36 people, according to local authorities.\\nOdessa:\\nExplosions rocked Odessa early Sunday as Russia said its missiles struck an oil refinery and fuel storage facilities, sending thick dark plumes of smoke into the sky in the first major strikes on the strategic Black Sea port citys downtown.\\nAnnabelle Chapman and Jon Gerberg contributed to this report.\\nAdvertisement\", 'datePublished': '2022-04-04T05:02:19.093', 'sentiment': 'Positive:31.82%'}], id='database-table', row_selectable='multi', sort_action='native', sort_mode='native', style_table={'maxHeight': '50ex', 'overflowY': 'scroll', 'width': '100%', 'minwidth': '100%', 'display': 'block'}, style_cell={'fontFamily': 'Open Sans', 'textAlign': 'left', 'width': '100px', 'minWidth': '10px', 'maxWidth': '180px', 'whiteSpace': 'normal', 'backgroundColor': 'Rgb(230,230,250)'}, style_header={'fontWeight': 'bold', 'border': 'thin lightgrey solid', 'backgroundColor': 'rgb(100, 100, 100)', 'color': 'white'})"
      ]
     },
     "execution_count": 39,
     "metadata": {},
     "output_type": "execute_result"
    }
   ],
   "source": [
    "generate_table(df)"
   ]
  },
  {
   "cell_type": "code",
   "execution_count": 40,
   "id": "823992f2-8bf6-4775-b493-99ad50955b8c",
   "metadata": {},
   "outputs": [
    {
     "data": {
      "text/html": [
       "<div>\n",
       "<style scoped>\n",
       "    .dataframe tbody tr th:only-of-type {\n",
       "        vertical-align: middle;\n",
       "    }\n",
       "\n",
       "    .dataframe tbody tr th {\n",
       "        vertical-align: top;\n",
       "    }\n",
       "\n",
       "    .dataframe thead th {\n",
       "        text-align: right;\n",
       "    }\n",
       "</style>\n",
       "<table border=\"1\" class=\"dataframe\">\n",
       "  <thead>\n",
       "    <tr style=\"text-align: right;\">\n",
       "      <th></th>\n",
       "      <th>word</th>\n",
       "      <th>freq</th>\n",
       "    </tr>\n",
       "  </thead>\n",
       "  <tbody>\n",
       "    <tr>\n",
       "      <th>69</th>\n",
       "      <td>said</td>\n",
       "      <td>16</td>\n",
       "    </tr>\n",
       "    <tr>\n",
       "      <th>105</th>\n",
       "      <td>port</td>\n",
       "      <td>9</td>\n",
       "    </tr>\n",
       "    <tr>\n",
       "      <th>106</th>\n",
       "      <td>city</td>\n",
       "      <td>9</td>\n",
       "    </tr>\n",
       "    <tr>\n",
       "      <th>99</th>\n",
       "      <td>Sunday</td>\n",
       "      <td>9</td>\n",
       "    </tr>\n",
       "    <tr>\n",
       "      <th>132</th>\n",
       "      <td>strikes</td>\n",
       "      <td>9</td>\n",
       "    </tr>\n",
       "  </tbody>\n",
       "</table>\n",
       "</div>"
      ],
      "text/plain": [
       "        word  freq\n",
       "69      said    16\n",
       "105     port     9\n",
       "106     city     9\n",
       "99    Sunday     9\n",
       "132  strikes     9"
      ]
     },
     "execution_count": 40,
     "metadata": {},
     "output_type": "execute_result"
    }
   ],
   "source": [
    "dfwf = reduceByWord(df)\n",
    "dfwf.head()"
   ]
  },
  {
   "cell_type": "code",
   "execution_count": 41,
   "id": "153cd74f-1d8e-4559-ba7a-8430af1d6022",
   "metadata": {},
   "outputs": [
    {
     "data": {
      "application/vnd.plotly.v1+json": {
       "config": {
        "plotlyServerURL": "https://plot.ly"
       },
       "data": [
        {
         "hoverinfo": "text",
         "hovertext": [
          "said1.0",
          "city1.0",
          "Sunday0.75",
          "port0.75",
          "Moscow0.75",
          "strikes0.75",
          "missile0.75",
          "war0.5",
          "atrocities0.5",
          "Ukraine0.5",
          "Post0.5",
          "Kyiv0.5",
          "region0.5",
          "capital0.5",
          "Ukrainian0.5",
          "forces0.5",
          "new0.5",
          "long0.5",
          "people0.5",
          "strategic0.5",
          "according0.5",
          "Russian0.5",
          "week0.5",
          "Odessa0.5",
          "RussiaUkraine0.25",
          "Live0.25",
          "updates0.25",
          "US0.25",
          "Secretary0.25",
          "State0.25",
          "Antony0.25",
          "Blinken0.25",
          "vowed0.25",
          "use0.25",
          "every0.25",
          "tool0.25",
          "available0.25",
          "pursue0.25",
          "responsible0.25",
          "apparent0.25",
          "Sources0.25",
          "Institute0.25",
          "Study0.25",
          "AEIs0.25",
          "Critical0.25",
          "Threats0.25",
          "Project0.25",
          "reporting0.25",
          "departure0.25",
          "troops0.25",
          "around0.25",
          "revealed0.25",
          "alleged0.25",
          "nearby0.25",
          "towns0.25",
          "sparking0.25",
          "global0.25",
          "outcry0.25",
          "Video0.25",
          "verified0.25",
          "Washington0.25",
          "showed0.25",
          "bodies0.25",
          "streets0.25",
          "Bucha0.25",
          "suburb0.25",
          "northwest0.25",
          "Journalists0.25",
          "officials0.25",
          "hands0.25",
          "corpses0.25",
          "bound0.25",
          "Donbas0.25",
          "moving0.25",
          "focus0.25",
          "south0.25",
          "east0.25",
          "setting0.25",
          "stage0.25",
          "phase0.25",
          "conflict0.25",
          "military0.25",
          "analysts0.25",
          "warn0.25",
          "bloody0.25",
          "Mariupol0.25",
          "Red0.25",
          "Cross0.25",
          "reached0.25",
          "hardhit0.25",
          "many0.25",
          "remain0.25",
          "trapped0.25",
          "heavy0.25",
          "fighting0.25",
          "target0.25",
          "provided0.25",
          "land0.25",
          "corridor0.25",
          "Russianoccupied0.25",
          "Crimea0.25",
          "continues0.25",
          "face0.25",
          "intense0.25",
          "indiscriminate0.25",
          "Britains0.25",
          "Defense0.25",
          "Ministry0.25",
          "retain0.25",
          "control0.25",
          "central0.25",
          "areas0.25",
          "Mykolaiv0.25",
          "reported0.25",
          "southern0.25",
          "front0.25",
          "lines0.25",
          "fight0.25",
          "artillery0.25",
          "hit0.25",
          "regional0.25",
          "administration0.25",
          "building0.25",
          "last0.25",
          "killing0.25",
          "least0.25",
          "local0.25",
          "authorities0.25",
          "Explosions0.25",
          "rocked0.25",
          "early0.25",
          "Russia0.25",
          "struck0.25",
          "oil0.25",
          "refinery0.25",
          "fuel0.25",
          "storage0.25",
          "facilities0.25",
          "sending0.25",
          "thick0.25",
          "dark0.25",
          "plumes0.25",
          "smoke0.25",
          "sky0.25",
          "first0.25",
          "major0.25",
          "Black0.25",
          "Sea0.25",
          "downtown0.25",
          "Annabelle0.25",
          "Chapman0.25",
          "Jon0.25",
          "Gerberg0.25",
          "contributed0.25",
          "report0.25",
          "Advertisement0.25"
         ],
         "mode": "text",
         "text": [
          "said",
          "city",
          "Sunday",
          "port",
          "Moscow",
          "strikes",
          "missile",
          "war",
          "atrocities",
          "Ukraine",
          "Post",
          "Kyiv",
          "region",
          "capital",
          "Ukrainian",
          "forces",
          "new",
          "long",
          "people",
          "strategic",
          "according",
          "Russian",
          "week",
          "Odessa",
          "RussiaUkraine",
          "Live",
          "updates",
          "US",
          "Secretary",
          "State",
          "Antony",
          "Blinken",
          "vowed",
          "use",
          "every",
          "tool",
          "available",
          "pursue",
          "responsible",
          "apparent",
          "Sources",
          "Institute",
          "Study",
          "AEIs",
          "Critical",
          "Threats",
          "Project",
          "reporting",
          "departure",
          "troops",
          "around",
          "revealed",
          "alleged",
          "nearby",
          "towns",
          "sparking",
          "global",
          "outcry",
          "Video",
          "verified",
          "Washington",
          "showed",
          "bodies",
          "streets",
          "Bucha",
          "suburb",
          "northwest",
          "Journalists",
          "officials",
          "hands",
          "corpses",
          "bound",
          "Donbas",
          "moving",
          "focus",
          "south",
          "east",
          "setting",
          "stage",
          "phase",
          "conflict",
          "military",
          "analysts",
          "warn",
          "bloody",
          "Mariupol",
          "Red",
          "Cross",
          "reached",
          "hardhit",
          "many",
          "remain",
          "trapped",
          "heavy",
          "fighting",
          "target",
          "provided",
          "land",
          "corridor",
          "Russianoccupied",
          "Crimea",
          "continues",
          "face",
          "intense",
          "indiscriminate",
          "Britains",
          "Defense",
          "Ministry",
          "retain",
          "control",
          "central",
          "areas",
          "Mykolaiv",
          "reported",
          "southern",
          "front",
          "lines",
          "fight",
          "artillery",
          "hit",
          "regional",
          "administration",
          "building",
          "last",
          "killing",
          "least",
          "local",
          "authorities",
          "Explosions",
          "rocked",
          "early",
          "Russia",
          "struck",
          "oil",
          "refinery",
          "fuel",
          "storage",
          "facilities",
          "sending",
          "thick",
          "dark",
          "plumes",
          "smoke",
          "sky",
          "first",
          "major",
          "Black",
          "Sea",
          "downtown",
          "Annabelle",
          "Chapman",
          "Jon",
          "Gerberg",
          "contributed",
          "report",
          "Advertisement"
         ],
         "textfont": {
          "color": [
           "rgb(38, 130, 142)",
           "rgb(69, 53, 129)",
           "rgb(60, 79, 138)",
           "rgb(176, 221, 47)",
           "rgb(41, 123, 142)",
           "rgb(33, 143, 141)",
           "rgb(142, 214, 69)",
           "rgb(33, 143, 141)",
           "rgb(33, 165, 133)",
           "rgb(55, 184, 120)",
           "rgb(47, 180, 124)",
           "rgb(68, 2, 86)",
           "rgb(70, 52, 128)",
           "rgb(41, 123, 142)",
           "rgb(58, 84, 140)",
           "rgb(173, 220, 48)",
           "rgb(72, 40, 120)",
           "rgb(32, 163, 134)",
           "rgb(37, 171, 130)",
           "rgb(70, 52, 128)",
           "rgb(61, 77, 138)",
           "rgb(46, 179, 124)",
           "rgb(69, 53, 129)",
           "rgb(66, 64, 134)",
           "rgb(42, 120, 142)",
           "rgb(71, 16, 99)",
           "rgb(60, 80, 139)",
           "rgb(50, 182, 122)",
           "rgb(37, 132, 142)",
           "rgb(94, 201, 98)",
           "rgb(61, 77, 138)",
           "rgb(44, 114, 142)",
           "rgb(246, 230, 32)",
           "rgb(70, 11, 94)",
           "rgb(96, 202, 96)",
           "rgb(86, 198, 103)",
           "rgb(72, 36, 117)",
           "rgb(54, 92, 141)",
           "rgb(31, 158, 137)",
           "rgb(34, 168, 132)",
           "rgb(33, 142, 141)",
           "rgb(66, 65, 134)",
           "rgb(152, 216, 62)",
           "rgb(56, 89, 140)",
           "rgb(64, 70, 136)",
           "rgb(62, 76, 138)",
           "rgb(39, 173, 129)",
           "rgb(31, 150, 139)",
           "rgb(31, 154, 138)",
           "rgb(34, 139, 141)",
           "rgb(31, 153, 138)",
           "rgb(70, 51, 127)",
           "rgb(72, 36, 117)",
           "rgb(39, 173, 129)",
           "rgb(71, 45, 123)",
           "rgb(76, 194, 108)",
           "rgb(71, 47, 125)",
           "rgb(71, 14, 97)",
           "rgb(105, 205, 91)",
           "rgb(44, 115, 142)",
           "rgb(33, 142, 141)",
           "rgb(65, 68, 135)",
           "rgb(31, 160, 136)",
           "rgb(52, 182, 121)",
           "rgb(49, 104, 142)",
           "rgb(46, 179, 124)",
           "rgb(64, 189, 114)",
           "rgb(41, 121, 142)",
           "rgb(47, 108, 142)",
           "rgb(99, 203, 95)",
           "rgb(168, 219, 52)",
           "rgb(78, 195, 107)",
           "rgb(68, 58, 131)",
           "rgb(41, 121, 142)",
           "rgb(69, 53, 129)",
           "rgb(57, 86, 140)",
           "rgb(68, 58, 131)",
           "rgb(59, 81, 139)",
           "rgb(54, 93, 141)",
           "rgb(71, 47, 125)",
           "rgb(70, 7, 90)",
           "rgb(46, 111, 142)",
           "rgb(34, 167, 133)",
           "rgb(117, 208, 84)",
           "rgb(31, 158, 137)",
           "rgb(71, 16, 99)",
           "rgb(213, 226, 26)",
           "rgb(65, 66, 135)",
           "rgb(70, 192, 111)",
           "rgb(137, 213, 72)",
           "rgb(48, 106, 142)",
           "rgb(39, 128, 142)",
           "rgb(218, 227, 25)",
           "rgb(64, 69, 136)",
           "rgb(72, 22, 104)",
           "rgb(72, 41, 121)",
           "rgb(76, 194, 108)",
           "rgb(30, 156, 137)",
           "rgb(35, 169, 131)",
           "rgb(170, 220, 50)",
           "rgb(34, 141, 141)",
           "rgb(71, 19, 101)",
           "rgb(160, 218, 57)",
           "rgb(210, 226, 27)",
           "rgb(192, 223, 37)",
           "rgb(32, 146, 140)",
           "rgb(72, 33, 115)",
           "rgb(56, 88, 140)",
           "rgb(31, 149, 139)",
           "rgb(53, 183, 121)",
           "rgb(36, 170, 131)",
           "rgb(71, 14, 97)",
           "rgb(178, 221, 45)",
           "rgb(59, 187, 117)",
           "rgb(71, 46, 124)",
           "rgb(192, 223, 37)",
           "rgb(226, 228, 24)",
           "rgb(58, 186, 118)",
           "rgb(192, 223, 37)",
           "rgb(69, 53, 129)",
           "rgb(70, 11, 94)",
           "rgb(200, 224, 32)",
           "rgb(39, 126, 142)",
           "rgb(71, 46, 124)",
           "rgb(64, 70, 136)",
           "rgb(33, 142, 141)",
           "rgb(84, 197, 104)",
           "rgb(53, 94, 141)",
           "rgb(32, 146, 140)",
           "rgb(45, 112, 142)",
           "rgb(181, 222, 43)",
           "rgb(55, 184, 120)",
           "rgb(184, 222, 41)",
           "rgb(49, 181, 123)",
           "rgb(134, 213, 73)",
           "rgb(33, 166, 133)",
           "rgb(72, 35, 116)",
           "rgb(72, 23, 105)",
           "rgb(50, 100, 142)",
           "rgb(54, 93, 141)",
           "rgb(253, 231, 37)",
           "rgb(61, 77, 138)",
           "rgb(30, 155, 138)",
           "rgb(70, 50, 126)",
           "rgb(62, 76, 138)",
           "rgb(69, 56, 130)",
           "rgb(110, 206, 88)",
           "rgb(57, 85, 140)",
           "rgb(39, 128, 142)",
           "rgb(202, 225, 31)",
           "rgb(42, 119, 142)",
           "rgb(78, 195, 107)",
           "rgb(34, 168, 132)",
           "rgb(76, 194, 108)",
           "rgb(96, 202, 96)",
           "rgb(54, 93, 141)"
          ],
          "size": [
           100,
           100,
           75,
           75,
           75,
           75,
           75,
           50,
           50,
           50,
           50,
           50,
           50,
           50,
           50,
           50,
           50,
           50,
           50,
           50,
           50,
           50,
           50,
           50,
           25,
           25,
           25,
           25,
           25,
           25,
           25,
           25,
           25,
           25,
           25,
           25,
           25,
           25,
           25,
           25,
           25,
           25,
           25,
           25,
           25,
           25,
           25,
           25,
           25,
           25,
           25,
           25,
           25,
           25,
           25,
           25,
           25,
           25,
           25,
           25,
           25,
           25,
           25,
           25,
           25,
           25,
           25,
           25,
           25,
           25,
           25,
           25,
           25,
           25,
           25,
           25,
           25,
           25,
           25,
           25,
           25,
           25,
           25,
           25,
           25,
           25,
           25,
           25,
           25,
           25,
           25,
           25,
           25,
           25,
           25,
           25,
           25,
           25,
           25,
           25,
           25,
           25,
           25,
           25,
           25,
           25,
           25,
           25,
           25,
           25,
           25,
           25,
           25,
           25,
           25,
           25,
           25,
           25,
           25,
           25,
           25,
           25,
           25,
           25,
           25,
           25,
           25,
           25,
           25,
           25,
           25,
           25,
           25,
           25,
           25,
           25,
           25,
           25,
           25,
           25,
           25,
           25,
           25,
           25,
           25,
           25,
           25,
           25,
           25,
           25,
           25,
           25,
           25,
           25,
           25,
           25
          ]
         },
         "type": "scatter",
         "x": [
          41,
          118,
          1,
          60,
          1,
          10,
          30,
          153,
          171,
          39,
          126,
          141,
          82,
          30,
          177,
          39,
          61,
          31,
          40,
          83,
          118,
          111,
          73,
          103,
          1,
          75,
          121,
          114,
          96,
          149,
          146,
          3,
          48,
          131,
          165,
          52,
          1,
          76,
          187,
          2,
          52,
          143,
          119,
          25,
          115,
          73,
          52,
          21,
          124,
          153,
          123,
          143,
          74,
          90,
          52,
          30,
          95,
          131,
          71,
          134,
          193,
          76,
          176,
          78,
          103,
          68,
          133,
          62,
          193,
          60,
          126,
          2,
          170,
          83,
          102,
          82,
          192,
          125,
          101,
          60,
          193,
          70,
          175,
          101,
          192,
          34,
          119,
          115,
          1,
          127,
          57,
          107,
          98,
          40,
          1,
          192,
          43,
          190,
          80,
          193,
          127,
          143,
          172,
          26,
          1,
          86,
          193,
          122,
          22,
          164,
          154,
          182,
          193,
          168,
          2,
          127,
          117,
          160,
          96,
          151,
          70,
          156,
          123,
          62,
          54,
          169,
          175,
          80,
          157,
          149,
          73,
          175,
          86,
          166,
          93,
          98,
          4,
          97,
          14,
          188,
          99,
          102,
          165,
          140,
          83,
          159,
          180,
          80,
          25,
          193,
          123,
          61,
          133,
          125,
          130,
          94
         ],
         "y": [
          120,
          166,
          43,
          43,
          246,
          1,
          360,
          98,
          114,
          42,
          105,
          330,
          59,
          279,
          3,
          231,
          87,
          295,
          139,
          31,
          277,
          232,
          159,
          83,
          80,
          108,
          185,
          78,
          355,
          191,
          353,
          221,
          208,
          205,
          148,
          249,
          176,
          322,
          283,
          7,
          301,
          87,
          156,
          229,
          96,
          356,
          356,
          32,
          241,
          269,
          80,
          127,
          189,
          171,
          176,
          245,
          127,
          80,
          79,
          390,
          244,
          277,
          314,
          13,
          26,
          32,
          331,
          392,
          124,
          66,
          314,
          280,
          31,
          177,
          68,
          3,
          57,
          16,
          248,
          177,
          177,
          299,
          95,
          4,
          72,
          344,
          391,
          55,
          297,
          275,
          54,
          294,
          105,
          252,
          354,
          86,
          212,
          357,
          73,
          13,
          342,
          269,
          287,
          115,
          319,
          328,
          144,
          124,
          192,
          317,
          78,
          350,
          209,
          244,
          380,
          294,
          255,
          80,
          198,
          326,
          246,
          185,
          2,
          40,
          150,
          315,
          354,
          358,
          148,
          17,
          144,
          18,
          251,
          391,
          246,
          296,
          229,
          364,
          230,
          101,
          385,
          140,
          352,
          215,
          163,
          293,
          226,
          252,
          43,
          103,
          364,
          296,
          155,
          43,
          58,
          178
         ]
        }
       ],
       "layout": {
        "height": 600,
        "template": {
         "data": {
          "bar": [
           {
            "error_x": {
             "color": "#2a3f5f"
            },
            "error_y": {
             "color": "#2a3f5f"
            },
            "marker": {
             "line": {
              "color": "#E5ECF6",
              "width": 0.5
             },
             "pattern": {
              "fillmode": "overlay",
              "size": 10,
              "solidity": 0.2
             }
            },
            "type": "bar"
           }
          ],
          "barpolar": [
           {
            "marker": {
             "line": {
              "color": "#E5ECF6",
              "width": 0.5
             },
             "pattern": {
              "fillmode": "overlay",
              "size": 10,
              "solidity": 0.2
             }
            },
            "type": "barpolar"
           }
          ],
          "carpet": [
           {
            "aaxis": {
             "endlinecolor": "#2a3f5f",
             "gridcolor": "white",
             "linecolor": "white",
             "minorgridcolor": "white",
             "startlinecolor": "#2a3f5f"
            },
            "baxis": {
             "endlinecolor": "#2a3f5f",
             "gridcolor": "white",
             "linecolor": "white",
             "minorgridcolor": "white",
             "startlinecolor": "#2a3f5f"
            },
            "type": "carpet"
           }
          ],
          "choropleth": [
           {
            "colorbar": {
             "outlinewidth": 0,
             "ticks": ""
            },
            "type": "choropleth"
           }
          ],
          "contour": [
           {
            "colorbar": {
             "outlinewidth": 0,
             "ticks": ""
            },
            "colorscale": [
             [
              0,
              "#0d0887"
             ],
             [
              0.1111111111111111,
              "#46039f"
             ],
             [
              0.2222222222222222,
              "#7201a8"
             ],
             [
              0.3333333333333333,
              "#9c179e"
             ],
             [
              0.4444444444444444,
              "#bd3786"
             ],
             [
              0.5555555555555556,
              "#d8576b"
             ],
             [
              0.6666666666666666,
              "#ed7953"
             ],
             [
              0.7777777777777778,
              "#fb9f3a"
             ],
             [
              0.8888888888888888,
              "#fdca26"
             ],
             [
              1,
              "#f0f921"
             ]
            ],
            "type": "contour"
           }
          ],
          "contourcarpet": [
           {
            "colorbar": {
             "outlinewidth": 0,
             "ticks": ""
            },
            "type": "contourcarpet"
           }
          ],
          "heatmap": [
           {
            "colorbar": {
             "outlinewidth": 0,
             "ticks": ""
            },
            "colorscale": [
             [
              0,
              "#0d0887"
             ],
             [
              0.1111111111111111,
              "#46039f"
             ],
             [
              0.2222222222222222,
              "#7201a8"
             ],
             [
              0.3333333333333333,
              "#9c179e"
             ],
             [
              0.4444444444444444,
              "#bd3786"
             ],
             [
              0.5555555555555556,
              "#d8576b"
             ],
             [
              0.6666666666666666,
              "#ed7953"
             ],
             [
              0.7777777777777778,
              "#fb9f3a"
             ],
             [
              0.8888888888888888,
              "#fdca26"
             ],
             [
              1,
              "#f0f921"
             ]
            ],
            "type": "heatmap"
           }
          ],
          "heatmapgl": [
           {
            "colorbar": {
             "outlinewidth": 0,
             "ticks": ""
            },
            "colorscale": [
             [
              0,
              "#0d0887"
             ],
             [
              0.1111111111111111,
              "#46039f"
             ],
             [
              0.2222222222222222,
              "#7201a8"
             ],
             [
              0.3333333333333333,
              "#9c179e"
             ],
             [
              0.4444444444444444,
              "#bd3786"
             ],
             [
              0.5555555555555556,
              "#d8576b"
             ],
             [
              0.6666666666666666,
              "#ed7953"
             ],
             [
              0.7777777777777778,
              "#fb9f3a"
             ],
             [
              0.8888888888888888,
              "#fdca26"
             ],
             [
              1,
              "#f0f921"
             ]
            ],
            "type": "heatmapgl"
           }
          ],
          "histogram": [
           {
            "marker": {
             "pattern": {
              "fillmode": "overlay",
              "size": 10,
              "solidity": 0.2
             }
            },
            "type": "histogram"
           }
          ],
          "histogram2d": [
           {
            "colorbar": {
             "outlinewidth": 0,
             "ticks": ""
            },
            "colorscale": [
             [
              0,
              "#0d0887"
             ],
             [
              0.1111111111111111,
              "#46039f"
             ],
             [
              0.2222222222222222,
              "#7201a8"
             ],
             [
              0.3333333333333333,
              "#9c179e"
             ],
             [
              0.4444444444444444,
              "#bd3786"
             ],
             [
              0.5555555555555556,
              "#d8576b"
             ],
             [
              0.6666666666666666,
              "#ed7953"
             ],
             [
              0.7777777777777778,
              "#fb9f3a"
             ],
             [
              0.8888888888888888,
              "#fdca26"
             ],
             [
              1,
              "#f0f921"
             ]
            ],
            "type": "histogram2d"
           }
          ],
          "histogram2dcontour": [
           {
            "colorbar": {
             "outlinewidth": 0,
             "ticks": ""
            },
            "colorscale": [
             [
              0,
              "#0d0887"
             ],
             [
              0.1111111111111111,
              "#46039f"
             ],
             [
              0.2222222222222222,
              "#7201a8"
             ],
             [
              0.3333333333333333,
              "#9c179e"
             ],
             [
              0.4444444444444444,
              "#bd3786"
             ],
             [
              0.5555555555555556,
              "#d8576b"
             ],
             [
              0.6666666666666666,
              "#ed7953"
             ],
             [
              0.7777777777777778,
              "#fb9f3a"
             ],
             [
              0.8888888888888888,
              "#fdca26"
             ],
             [
              1,
              "#f0f921"
             ]
            ],
            "type": "histogram2dcontour"
           }
          ],
          "mesh3d": [
           {
            "colorbar": {
             "outlinewidth": 0,
             "ticks": ""
            },
            "type": "mesh3d"
           }
          ],
          "parcoords": [
           {
            "line": {
             "colorbar": {
              "outlinewidth": 0,
              "ticks": ""
             }
            },
            "type": "parcoords"
           }
          ],
          "pie": [
           {
            "automargin": true,
            "type": "pie"
           }
          ],
          "scatter": [
           {
            "marker": {
             "colorbar": {
              "outlinewidth": 0,
              "ticks": ""
             }
            },
            "type": "scatter"
           }
          ],
          "scatter3d": [
           {
            "line": {
             "colorbar": {
              "outlinewidth": 0,
              "ticks": ""
             }
            },
            "marker": {
             "colorbar": {
              "outlinewidth": 0,
              "ticks": ""
             }
            },
            "type": "scatter3d"
           }
          ],
          "scattercarpet": [
           {
            "marker": {
             "colorbar": {
              "outlinewidth": 0,
              "ticks": ""
             }
            },
            "type": "scattercarpet"
           }
          ],
          "scattergeo": [
           {
            "marker": {
             "colorbar": {
              "outlinewidth": 0,
              "ticks": ""
             }
            },
            "type": "scattergeo"
           }
          ],
          "scattergl": [
           {
            "marker": {
             "colorbar": {
              "outlinewidth": 0,
              "ticks": ""
             }
            },
            "type": "scattergl"
           }
          ],
          "scattermapbox": [
           {
            "marker": {
             "colorbar": {
              "outlinewidth": 0,
              "ticks": ""
             }
            },
            "type": "scattermapbox"
           }
          ],
          "scatterpolar": [
           {
            "marker": {
             "colorbar": {
              "outlinewidth": 0,
              "ticks": ""
             }
            },
            "type": "scatterpolar"
           }
          ],
          "scatterpolargl": [
           {
            "marker": {
             "colorbar": {
              "outlinewidth": 0,
              "ticks": ""
             }
            },
            "type": "scatterpolargl"
           }
          ],
          "scatterternary": [
           {
            "marker": {
             "colorbar": {
              "outlinewidth": 0,
              "ticks": ""
             }
            },
            "type": "scatterternary"
           }
          ],
          "surface": [
           {
            "colorbar": {
             "outlinewidth": 0,
             "ticks": ""
            },
            "colorscale": [
             [
              0,
              "#0d0887"
             ],
             [
              0.1111111111111111,
              "#46039f"
             ],
             [
              0.2222222222222222,
              "#7201a8"
             ],
             [
              0.3333333333333333,
              "#9c179e"
             ],
             [
              0.4444444444444444,
              "#bd3786"
             ],
             [
              0.5555555555555556,
              "#d8576b"
             ],
             [
              0.6666666666666666,
              "#ed7953"
             ],
             [
              0.7777777777777778,
              "#fb9f3a"
             ],
             [
              0.8888888888888888,
              "#fdca26"
             ],
             [
              1,
              "#f0f921"
             ]
            ],
            "type": "surface"
           }
          ],
          "table": [
           {
            "cells": {
             "fill": {
              "color": "#EBF0F8"
             },
             "line": {
              "color": "white"
             }
            },
            "header": {
             "fill": {
              "color": "#C8D4E3"
             },
             "line": {
              "color": "white"
             }
            },
            "type": "table"
           }
          ]
         },
         "layout": {
          "annotationdefaults": {
           "arrowcolor": "#2a3f5f",
           "arrowhead": 0,
           "arrowwidth": 1
          },
          "autotypenumbers": "strict",
          "coloraxis": {
           "colorbar": {
            "outlinewidth": 0,
            "ticks": ""
           }
          },
          "colorscale": {
           "diverging": [
            [
             0,
             "#8e0152"
            ],
            [
             0.1,
             "#c51b7d"
            ],
            [
             0.2,
             "#de77ae"
            ],
            [
             0.3,
             "#f1b6da"
            ],
            [
             0.4,
             "#fde0ef"
            ],
            [
             0.5,
             "#f7f7f7"
            ],
            [
             0.6,
             "#e6f5d0"
            ],
            [
             0.7,
             "#b8e186"
            ],
            [
             0.8,
             "#7fbc41"
            ],
            [
             0.9,
             "#4d9221"
            ],
            [
             1,
             "#276419"
            ]
           ],
           "sequential": [
            [
             0,
             "#0d0887"
            ],
            [
             0.1111111111111111,
             "#46039f"
            ],
            [
             0.2222222222222222,
             "#7201a8"
            ],
            [
             0.3333333333333333,
             "#9c179e"
            ],
            [
             0.4444444444444444,
             "#bd3786"
            ],
            [
             0.5555555555555556,
             "#d8576b"
            ],
            [
             0.6666666666666666,
             "#ed7953"
            ],
            [
             0.7777777777777778,
             "#fb9f3a"
            ],
            [
             0.8888888888888888,
             "#fdca26"
            ],
            [
             1,
             "#f0f921"
            ]
           ],
           "sequentialminus": [
            [
             0,
             "#0d0887"
            ],
            [
             0.1111111111111111,
             "#46039f"
            ],
            [
             0.2222222222222222,
             "#7201a8"
            ],
            [
             0.3333333333333333,
             "#9c179e"
            ],
            [
             0.4444444444444444,
             "#bd3786"
            ],
            [
             0.5555555555555556,
             "#d8576b"
            ],
            [
             0.6666666666666666,
             "#ed7953"
            ],
            [
             0.7777777777777778,
             "#fb9f3a"
            ],
            [
             0.8888888888888888,
             "#fdca26"
            ],
            [
             1,
             "#f0f921"
            ]
           ]
          },
          "colorway": [
           "#636efa",
           "#EF553B",
           "#00cc96",
           "#ab63fa",
           "#FFA15A",
           "#19d3f3",
           "#FF6692",
           "#B6E880",
           "#FF97FF",
           "#FECB52"
          ],
          "font": {
           "color": "#2a3f5f"
          },
          "geo": {
           "bgcolor": "white",
           "lakecolor": "white",
           "landcolor": "#E5ECF6",
           "showlakes": true,
           "showland": true,
           "subunitcolor": "white"
          },
          "hoverlabel": {
           "align": "left"
          },
          "hovermode": "closest",
          "mapbox": {
           "style": "light"
          },
          "paper_bgcolor": "white",
          "plot_bgcolor": "#E5ECF6",
          "polar": {
           "angularaxis": {
            "gridcolor": "white",
            "linecolor": "white",
            "ticks": ""
           },
           "bgcolor": "#E5ECF6",
           "radialaxis": {
            "gridcolor": "white",
            "linecolor": "white",
            "ticks": ""
           }
          },
          "scene": {
           "xaxis": {
            "backgroundcolor": "#E5ECF6",
            "gridcolor": "white",
            "gridwidth": 2,
            "linecolor": "white",
            "showbackground": true,
            "ticks": "",
            "zerolinecolor": "white"
           },
           "yaxis": {
            "backgroundcolor": "#E5ECF6",
            "gridcolor": "white",
            "gridwidth": 2,
            "linecolor": "white",
            "showbackground": true,
            "ticks": "",
            "zerolinecolor": "white"
           },
           "zaxis": {
            "backgroundcolor": "#E5ECF6",
            "gridcolor": "white",
            "gridwidth": 2,
            "linecolor": "white",
            "showbackground": true,
            "ticks": "",
            "zerolinecolor": "white"
           }
          },
          "shapedefaults": {
           "line": {
            "color": "#2a3f5f"
           }
          },
          "ternary": {
           "aaxis": {
            "gridcolor": "white",
            "linecolor": "white",
            "ticks": ""
           },
           "baxis": {
            "gridcolor": "white",
            "linecolor": "white",
            "ticks": ""
           },
           "bgcolor": "#E5ECF6",
           "caxis": {
            "gridcolor": "white",
            "linecolor": "white",
            "ticks": ""
           }
          },
          "title": {
           "x": 0.05
          },
          "xaxis": {
           "automargin": true,
           "gridcolor": "white",
           "linecolor": "white",
           "ticks": "",
           "title": {
            "standoff": 15
           },
           "zerolinecolor": "white",
           "zerolinewidth": 2
          },
          "yaxis": {
           "automargin": true,
           "gridcolor": "white",
           "linecolor": "white",
           "ticks": "",
           "title": {
            "standoff": 15
           },
           "zerolinecolor": "white",
           "zerolinewidth": 2
          }
         }
        },
        "width": 1000,
        "xaxis": {
         "autorange": true,
         "range": [
          -9.666666666666666,
          203.66666666666666
         ],
         "showgrid": false,
         "showticklabels": false,
         "type": "linear",
         "zeroline": false
        },
        "yaxis": {
         "autorange": true,
         "range": [
          -20.72222222222222,
          413.72222222222223
         ],
         "showgrid": false,
         "showticklabels": false,
         "type": "linear",
         "zeroline": false
        }
       }
      },
      "image/png": "[encoded data removed]",
      "text/html": [
       "<div>                            <div id=\"a0b4fe07-a6de-4d3a-a37f-6fd1b1841f60\" class=\"plotly-graph-div\" style=\"height:600px; width:1000px;\"></div>            <script type=\"text/javascript\">                require([\"plotly\"], function(Plotly) {                    window.PLOTLYENV=window.PLOTLYENV || {};                                    if (document.getElementById(\"a0b4fe07-a6de-4d3a-a37f-6fd1b1841f60\")) {                    Plotly.newPlot(                        \"a0b4fe07-a6de-4d3a-a37f-6fd1b1841f60\",                        [{\"hoverinfo\":\"text\",\"hovertext\":[\"said1.0\",\"city1.0\",\"Sunday0.75\",\"port0.75\",\"Moscow0.75\",\"strikes0.75\",\"missile0.75\",\"war0.5\",\"atrocities0.5\",\"Ukraine0.5\",\"Post0.5\",\"Kyiv0.5\",\"region0.5\",\"capital0.5\",\"Ukrainian0.5\",\"forces0.5\",\"new0.5\",\"long0.5\",\"people0.5\",\"strategic0.5\",\"according0.5\",\"Russian0.5\",\"week0.5\",\"Odessa0.5\",\"RussiaUkraine0.25\",\"Live0.25\",\"updates0.25\",\"US0.25\",\"Secretary0.25\",\"State0.25\",\"Antony0.25\",\"Blinken0.25\",\"vowed0.25\",\"use0.25\",\"every0.25\",\"tool0.25\",\"available0.25\",\"pursue0.25\",\"responsible0.25\",\"apparent0.25\",\"Sources0.25\",\"Institute0.25\",\"Study0.25\",\"AEIs0.25\",\"Critical0.25\",\"Threats0.25\",\"Project0.25\",\"reporting0.25\",\"departure0.25\",\"troops0.25\",\"around0.25\",\"revealed0.25\",\"alleged0.25\",\"nearby0.25\",\"towns0.25\",\"sparking0.25\",\"global0.25\",\"outcry0.25\",\"Video0.25\",\"verified0.25\",\"Washington0.25\",\"showed0.25\",\"bodies0.25\",\"streets0.25\",\"Bucha0.25\",\"suburb0.25\",\"northwest0.25\",\"Journalists0.25\",\"officials0.25\",\"hands0.25\",\"corpses0.25\",\"bound0.25\",\"Donbas0.25\",\"moving0.25\",\"focus0.25\",\"south0.25\",\"east0.25\",\"setting0.25\",\"stage0.25\",\"phase0.25\",\"conflict0.25\",\"military0.25\",\"analysts0.25\",\"warn0.25\",\"bloody0.25\",\"Mariupol0.25\",\"Red0.25\",\"Cross0.25\",\"reached0.25\",\"hardhit0.25\",\"many0.25\",\"remain0.25\",\"trapped0.25\",\"heavy0.25\",\"fighting0.25\",\"target0.25\",\"provided0.25\",\"land0.25\",\"corridor0.25\",\"Russianoccupied0.25\",\"Crimea0.25\",\"continues0.25\",\"face0.25\",\"intense0.25\",\"indiscriminate0.25\",\"Britains0.25\",\"Defense0.25\",\"Ministry0.25\",\"retain0.25\",\"control0.25\",\"central0.25\",\"areas0.25\",\"Mykolaiv0.25\",\"reported0.25\",\"southern0.25\",\"front0.25\",\"lines0.25\",\"fight0.25\",\"artillery0.25\",\"hit0.25\",\"regional0.25\",\"administration0.25\",\"building0.25\",\"last0.25\",\"killing0.25\",\"least0.25\",\"local0.25\",\"authorities0.25\",\"Explosions0.25\",\"rocked0.25\",\"early0.25\",\"Russia0.25\",\"struck0.25\",\"oil0.25\",\"refinery0.25\",\"fuel0.25\",\"storage0.25\",\"facilities0.25\",\"sending0.25\",\"thick0.25\",\"dark0.25\",\"plumes0.25\",\"smoke0.25\",\"sky0.25\",\"first0.25\",\"major0.25\",\"Black0.25\",\"Sea0.25\",\"downtown0.25\",\"Annabelle0.25\",\"Chapman0.25\",\"Jon0.25\",\"Gerberg0.25\",\"contributed0.25\",\"report0.25\",\"Advertisement0.25\"],\"mode\":\"text\",\"text\":[\"said\",\"city\",\"Sunday\",\"port\",\"Moscow\",\"strikes\",\"missile\",\"war\",\"atrocities\",\"Ukraine\",\"Post\",\"Kyiv\",\"region\",\"capital\",\"Ukrainian\",\"forces\",\"new\",\"long\",\"people\",\"strategic\",\"according\",\"Russian\",\"week\",\"Odessa\",\"RussiaUkraine\",\"Live\",\"updates\",\"US\",\"Secretary\",\"State\",\"Antony\",\"Blinken\",\"vowed\",\"use\",\"every\",\"tool\",\"available\",\"pursue\",\"responsible\",\"apparent\",\"Sources\",\"Institute\",\"Study\",\"AEIs\",\"Critical\",\"Threats\",\"Project\",\"reporting\",\"departure\",\"troops\",\"around\",\"revealed\",\"alleged\",\"nearby\",\"towns\",\"sparking\",\"global\",\"outcry\",\"Video\",\"verified\",\"Washington\",\"showed\",\"bodies\",\"streets\",\"Bucha\",\"suburb\",\"northwest\",\"Journalists\",\"officials\",\"hands\",\"corpses\",\"bound\",\"Donbas\",\"moving\",\"focus\",\"south\",\"east\",\"setting\",\"stage\",\"phase\",\"conflict\",\"military\",\"analysts\",\"warn\",\"bloody\",\"Mariupol\",\"Red\",\"Cross\",\"reached\",\"hardhit\",\"many\",\"remain\",\"trapped\",\"heavy\",\"fighting\",\"target\",\"provided\",\"land\",\"corridor\",\"Russianoccupied\",\"Crimea\",\"continues\",\"face\",\"intense\",\"indiscriminate\",\"Britains\",\"Defense\",\"Ministry\",\"retain\",\"control\",\"central\",\"areas\",\"Mykolaiv\",\"reported\",\"southern\",\"front\",\"lines\",\"fight\",\"artillery\",\"hit\",\"regional\",\"administration\",\"building\",\"last\",\"killing\",\"least\",\"local\",\"authorities\",\"Explosions\",\"rocked\",\"early\",\"Russia\",\"struck\",\"oil\",\"refinery\",\"fuel\",\"storage\",\"facilities\",\"sending\",\"thick\",\"dark\",\"plumes\",\"smoke\",\"sky\",\"first\",\"major\",\"Black\",\"Sea\",\"downtown\",\"Annabelle\",\"Chapman\",\"Jon\",\"Gerberg\",\"contributed\",\"report\",\"Advertisement\"],\"textfont\":{\"color\":[\"rgb(38, 130, 142)\",\"rgb(69, 53, 129)\",\"rgb(60, 79, 138)\",\"rgb(176, 221, 47)\",\"rgb(41, 123, 142)\",\"rgb(33, 143, 141)\",\"rgb(142, 214, 69)\",\"rgb(33, 143, 141)\",\"rgb(33, 165, 133)\",\"rgb(55, 184, 120)\",\"rgb(47, 180, 124)\",\"rgb(68, 2, 86)\",\"rgb(70, 52, 128)\",\"rgb(41, 123, 142)\",\"rgb(58, 84, 140)\",\"rgb(173, 220, 48)\",\"rgb(72, 40, 120)\",\"rgb(32, 163, 134)\",\"rgb(37, 171, 130)\",\"rgb(70, 52, 128)\",\"rgb(61, 77, 138)\",\"rgb(46, 179, 124)\",\"rgb(69, 53, 129)\",\"rgb(66, 64, 134)\",\"rgb(42, 120, 142)\",\"rgb(71, 16, 99)\",\"rgb(60, 80, 139)\",\"rgb(50, 182, 122)\",\"rgb(37, 132, 142)\",\"rgb(94, 201, 98)\",\"rgb(61, 77, 138)\",\"rgb(44, 114, 142)\",\"rgb(246, 230, 32)\",\"rgb(70, 11, 94)\",\"rgb(96, 202, 96)\",\"rgb(86, 198, 103)\",\"rgb(72, 36, 117)\",\"rgb(54, 92, 141)\",\"rgb(31, 158, 137)\",\"rgb(34, 168, 132)\",\"rgb(33, 142, 141)\",\"rgb(66, 65, 134)\",\"rgb(152, 216, 62)\",\"rgb(56, 89, 140)\",\"rgb(64, 70, 136)\",\"rgb(62, 76, 138)\",\"rgb(39, 173, 129)\",\"rgb(31, 150, 139)\",\"rgb(31, 154, 138)\",\"rgb(34, 139, 141)\",\"rgb(31, 153, 138)\",\"rgb(70, 51, 127)\",\"rgb(72, 36, 117)\",\"rgb(39, 173, 129)\",\"rgb(71, 45, 123)\",\"rgb(76, 194, 108)\",\"rgb(71, 47, 125)\",\"rgb(71, 14, 97)\",\"rgb(105, 205, 91)\",\"rgb(44, 115, 142)\",\"rgb(33, 142, 141)\",\"rgb(65, 68, 135)\",\"rgb(31, 160, 136)\",\"rgb(52, 182, 121)\",\"rgb(49, 104, 142)\",\"rgb(46, 179, 124)\",\"rgb(64, 189, 114)\",\"rgb(41, 121, 142)\",\"rgb(47, 108, 142)\",\"rgb(99, 203, 95)\",\"rgb(168, 219, 52)\",\"rgb(78, 195, 107)\",\"rgb(68, 58, 131)\",\"rgb(41, 121, 142)\",\"rgb(69, 53, 129)\",\"rgb(57, 86, 140)\",\"rgb(68, 58, 131)\",\"rgb(59, 81, 139)\",\"rgb(54, 93, 141)\",\"rgb(71, 47, 125)\",\"rgb(70, 7, 90)\",\"rgb(46, 111, 142)\",\"rgb(34, 167, 133)\",\"rgb(117, 208, 84)\",\"rgb(31, 158, 137)\",\"rgb(71, 16, 99)\",\"rgb(213, 226, 26)\",\"rgb(65, 66, 135)\",\"rgb(70, 192, 111)\",\"rgb(137, 213, 72)\",\"rgb(48, 106, 142)\",\"rgb(39, 128, 142)\",\"rgb(218, 227, 25)\",\"rgb(64, 69, 136)\",\"rgb(72, 22, 104)\",\"rgb(72, 41, 121)\",\"rgb(76, 194, 108)\",\"rgb(30, 156, 137)\",\"rgb(35, 169, 131)\",\"rgb(170, 220, 50)\",\"rgb(34, 141, 141)\",\"rgb(71, 19, 101)\",\"rgb(160, 218, 57)\",\"rgb(210, 226, 27)\",\"rgb(192, 223, 37)\",\"rgb(32, 146, 140)\",\"rgb(72, 33, 115)\",\"rgb(56, 88, 140)\",\"rgb(31, 149, 139)\",\"rgb(53, 183, 121)\",\"rgb(36, 170, 131)\",\"rgb(71, 14, 97)\",\"rgb(178, 221, 45)\",\"rgb(59, 187, 117)\",\"rgb(71, 46, 124)\",\"rgb(192, 223, 37)\",\"rgb(226, 228, 24)\",\"rgb(58, 186, 118)\",\"rgb(192, 223, 37)\",\"rgb(69, 53, 129)\",\"rgb(70, 11, 94)\",\"rgb(200, 224, 32)\",\"rgb(39, 126, 142)\",\"rgb(71, 46, 124)\",\"rgb(64, 70, 136)\",\"rgb(33, 142, 141)\",\"rgb(84, 197, 104)\",\"rgb(53, 94, 141)\",\"rgb(32, 146, 140)\",\"rgb(45, 112, 142)\",\"rgb(181, 222, 43)\",\"rgb(55, 184, 120)\",\"rgb(184, 222, 41)\",\"rgb(49, 181, 123)\",\"rgb(134, 213, 73)\",\"rgb(33, 166, 133)\",\"rgb(72, 35, 116)\",\"rgb(72, 23, 105)\",\"rgb(50, 100, 142)\",\"rgb(54, 93, 141)\",\"rgb(253, 231, 37)\",\"rgb(61, 77, 138)\",\"rgb(30, 155, 138)\",\"rgb(70, 50, 126)\",\"rgb(62, 76, 138)\",\"rgb(69, 56, 130)\",\"rgb(110, 206, 88)\",\"rgb(57, 85, 140)\",\"rgb(39, 128, 142)\",\"rgb(202, 225, 31)\",\"rgb(42, 119, 142)\",\"rgb(78, 195, 107)\",\"rgb(34, 168, 132)\",\"rgb(76, 194, 108)\",\"rgb(96, 202, 96)\",\"rgb(54, 93, 141)\"],\"size\":[100.0,100.0,75.0,75.0,75.0,75.0,75.0,50.0,50.0,50.0,50.0,50.0,50.0,50.0,50.0,50.0,50.0,50.0,50.0,50.0,50.0,50.0,50.0,50.0,25.0,25.0,25.0,25.0,25.0,25.0,25.0,25.0,25.0,25.0,25.0,25.0,25.0,25.0,25.0,25.0,25.0,25.0,25.0,25.0,25.0,25.0,25.0,25.0,25.0,25.0,25.0,25.0,25.0,25.0,25.0,25.0,25.0,25.0,25.0,25.0,25.0,25.0,25.0,25.0,25.0,25.0,25.0,25.0,25.0,25.0,25.0,25.0,25.0,25.0,25.0,25.0,25.0,25.0,25.0,25.0,25.0,25.0,25.0,25.0,25.0,25.0,25.0,25.0,25.0,25.0,25.0,25.0,25.0,25.0,25.0,25.0,25.0,25.0,25.0,25.0,25.0,25.0,25.0,25.0,25.0,25.0,25.0,25.0,25.0,25.0,25.0,25.0,25.0,25.0,25.0,25.0,25.0,25.0,25.0,25.0,25.0,25.0,25.0,25.0,25.0,25.0,25.0,25.0,25.0,25.0,25.0,25.0,25.0,25.0,25.0,25.0,25.0,25.0,25.0,25.0,25.0,25.0,25.0,25.0,25.0,25.0,25.0,25.0,25.0,25.0,25.0,25.0,25.0,25.0,25.0,25.0]},\"x\":[41,118,1,60,1,10,30,153,171,39,126,141,82,30,177,39,61,31,40,83,118,111,73,103,1,75,121,114,96,149,146,3,48,131,165,52,1,76,187,2,52,143,119,25,115,73,52,21,124,153,123,143,74,90,52,30,95,131,71,134,193,76,176,78,103,68,133,62,193,60,126,2,170,83,102,82,192,125,101,60,193,70,175,101,192,34,119,115,1,127,57,107,98,40,1,192,43,190,80,193,127,143,172,26,1,86,193,122,22,164,154,182,193,168,2,127,117,160,96,151,70,156,123,62,54,169,175,80,157,149,73,175,86,166,93,98,4,97,14,188,99,102,165,140,83,159,180,80,25,193,123,61,133,125,130,94],\"y\":[120,166,43,43,246,1,360,98,114,42,105,330,59,279,3,231,87,295,139,31,277,232,159,83,80,108,185,78,355,191,353,221,208,205,148,249,176,322,283,7,301,87,156,229,96,356,356,32,241,269,80,127,189,171,176,245,127,80,79,390,244,277,314,13,26,32,331,392,124,66,314,280,31,177,68,3,57,16,248,177,177,299,95,4,72,344,391,55,297,275,54,294,105,252,354,86,212,357,73,13,342,269,287,115,319,328,144,124,192,317,78,350,209,244,380,294,255,80,198,326,246,185,2,40,150,315,354,358,148,17,144,18,251,391,246,296,229,364,230,101,385,140,352,215,163,293,226,252,43,103,364,296,155,43,58,178],\"type\":\"scatter\"}],                        {\"height\":600,\"width\":1000,\"xaxis\":{\"showgrid\":false,\"showticklabels\":false,\"zeroline\":false},\"yaxis\":{\"showgrid\":false,\"showticklabels\":false,\"zeroline\":false},\"template\":{\"data\":{\"bar\":[{\"error_x\":{\"color\":\"#2a3f5f\"},\"error_y\":{\"color\":\"#2a3f5f\"},\"marker\":{\"line\":{\"color\":\"#E5ECF6\",\"width\":0.5},\"pattern\":{\"fillmode\":\"overlay\",\"size\":10,\"solidity\":0.2}},\"type\":\"bar\"}],\"barpolar\":[{\"marker\":{\"line\":{\"color\":\"#E5ECF6\",\"width\":0.5},\"pattern\":{\"fillmode\":\"overlay\",\"size\":10,\"solidity\":0.2}},\"type\":\"barpolar\"}],\"carpet\":[{\"aaxis\":{\"endlinecolor\":\"#2a3f5f\",\"gridcolor\":\"white\",\"linecolor\":\"white\",\"minorgridcolor\":\"white\",\"startlinecolor\":\"#2a3f5f\"},\"baxis\":{\"endlinecolor\":\"#2a3f5f\",\"gridcolor\":\"white\",\"linecolor\":\"white\",\"minorgridcolor\":\"white\",\"startlinecolor\":\"#2a3f5f\"},\"type\":\"carpet\"}],\"choropleth\":[{\"colorbar\":{\"outlinewidth\":0,\"ticks\":\"\"},\"type\":\"choropleth\"}],\"contour\":[{\"colorbar\":{\"outlinewidth\":0,\"ticks\":\"\"},\"colorscale\":[[0.0,\"#0d0887\"],[0.1111111111111111,\"#46039f\"],[0.2222222222222222,\"#7201a8\"],[0.3333333333333333,\"#9c179e\"],[0.4444444444444444,\"#bd3786\"],[0.5555555555555556,\"#d8576b\"],[0.6666666666666666,\"#ed7953\"],[0.7777777777777778,\"#fb9f3a\"],[0.8888888888888888,\"#fdca26\"],[1.0,\"#f0f921\"]],\"type\":\"contour\"}],\"contourcarpet\":[{\"colorbar\":{\"outlinewidth\":0,\"ticks\":\"\"},\"type\":\"contourcarpet\"}],\"heatmap\":[{\"colorbar\":{\"outlinewidth\":0,\"ticks\":\"\"},\"colorscale\":[[0.0,\"#0d0887\"],[0.1111111111111111,\"#46039f\"],[0.2222222222222222,\"#7201a8\"],[0.3333333333333333,\"#9c179e\"],[0.4444444444444444,\"#bd3786\"],[0.5555555555555556,\"#d8576b\"],[0.6666666666666666,\"#ed7953\"],[0.7777777777777778,\"#fb9f3a\"],[0.8888888888888888,\"#fdca26\"],[1.0,\"#f0f921\"]],\"type\":\"heatmap\"}],\"heatmapgl\":[{\"colorbar\":{\"outlinewidth\":0,\"ticks\":\"\"},\"colorscale\":[[0.0,\"#0d0887\"],[0.1111111111111111,\"#46039f\"],[0.2222222222222222,\"#7201a8\"],[0.3333333333333333,\"#9c179e\"],[0.4444444444444444,\"#bd3786\"],[0.5555555555555556,\"#d8576b\"],[0.6666666666666666,\"#ed7953\"],[0.7777777777777778,\"#fb9f3a\"],[0.8888888888888888,\"#fdca26\"],[1.0,\"#f0f921\"]],\"type\":\"heatmapgl\"}],\"histogram\":[{\"marker\":{\"pattern\":{\"fillmode\":\"overlay\",\"size\":10,\"solidity\":0.2}},\"type\":\"histogram\"}],\"histogram2d\":[{\"colorbar\":{\"outlinewidth\":0,\"ticks\":\"\"},\"colorscale\":[[0.0,\"#0d0887\"],[0.1111111111111111,\"#46039f\"],[0.2222222222222222,\"#7201a8\"],[0.3333333333333333,\"#9c179e\"],[0.4444444444444444,\"#bd3786\"],[0.5555555555555556,\"#d8576b\"],[0.6666666666666666,\"#ed7953\"],[0.7777777777777778,\"#fb9f3a\"],[0.8888888888888888,\"#fdca26\"],[1.0,\"#f0f921\"]],\"type\":\"histogram2d\"}],\"histogram2dcontour\":[{\"colorbar\":{\"outlinewidth\":0,\"ticks\":\"\"},\"colorscale\":[[0.0,\"#0d0887\"],[0.1111111111111111,\"#46039f\"],[0.2222222222222222,\"#7201a8\"],[0.3333333333333333,\"#9c179e\"],[0.4444444444444444,\"#bd3786\"],[0.5555555555555556,\"#d8576b\"],[0.6666666666666666,\"#ed7953\"],[0.7777777777777778,\"#fb9f3a\"],[0.8888888888888888,\"#fdca26\"],[1.0,\"#f0f921\"]],\"type\":\"histogram2dcontour\"}],\"mesh3d\":[{\"colorbar\":{\"outlinewidth\":0,\"ticks\":\"\"},\"type\":\"mesh3d\"}],\"parcoords\":[{\"line\":{\"colorbar\":{\"outlinewidth\":0,\"ticks\":\"\"}},\"type\":\"parcoords\"}],\"pie\":[{\"automargin\":true,\"type\":\"pie\"}],\"scatter\":[{\"marker\":{\"colorbar\":{\"outlinewidth\":0,\"ticks\":\"\"}},\"type\":\"scatter\"}],\"scatter3d\":[{\"line\":{\"colorbar\":{\"outlinewidth\":0,\"ticks\":\"\"}},\"marker\":{\"colorbar\":{\"outlinewidth\":0,\"ticks\":\"\"}},\"type\":\"scatter3d\"}],\"scattercarpet\":[{\"marker\":{\"colorbar\":{\"outlinewidth\":0,\"ticks\":\"\"}},\"type\":\"scattercarpet\"}],\"scattergeo\":[{\"marker\":{\"colorbar\":{\"outlinewidth\":0,\"ticks\":\"\"}},\"type\":\"scattergeo\"}],\"scattergl\":[{\"marker\":{\"colorbar\":{\"outlinewidth\":0,\"ticks\":\"\"}},\"type\":\"scattergl\"}],\"scattermapbox\":[{\"marker\":{\"colorbar\":{\"outlinewidth\":0,\"ticks\":\"\"}},\"type\":\"scattermapbox\"}],\"scatterpolar\":[{\"marker\":{\"colorbar\":{\"outlinewidth\":0,\"ticks\":\"\"}},\"type\":\"scatterpolar\"}],\"scatterpolargl\":[{\"marker\":{\"colorbar\":{\"outlinewidth\":0,\"ticks\":\"\"}},\"type\":\"scatterpolargl\"}],\"scatterternary\":[{\"marker\":{\"colorbar\":{\"outlinewidth\":0,\"ticks\":\"\"}},\"type\":\"scatterternary\"}],\"surface\":[{\"colorbar\":{\"outlinewidth\":0,\"ticks\":\"\"},\"colorscale\":[[0.0,\"#0d0887\"],[0.1111111111111111,\"#46039f\"],[0.2222222222222222,\"#7201a8\"],[0.3333333333333333,\"#9c179e\"],[0.4444444444444444,\"#bd3786\"],[0.5555555555555556,\"#d8576b\"],[0.6666666666666666,\"#ed7953\"],[0.7777777777777778,\"#fb9f3a\"],[0.8888888888888888,\"#fdca26\"],[1.0,\"#f0f921\"]],\"type\":\"surface\"}],\"table\":[{\"cells\":{\"fill\":{\"color\":\"#EBF0F8\"},\"line\":{\"color\":\"white\"}},\"header\":{\"fill\":{\"color\":\"#C8D4E3\"},\"line\":{\"color\":\"white\"}},\"type\":\"table\"}]},\"layout\":{\"annotationdefaults\":{\"arrowcolor\":\"#2a3f5f\",\"arrowhead\":0,\"arrowwidth\":1},\"autotypenumbers\":\"strict\",\"coloraxis\":{\"colorbar\":{\"outlinewidth\":0,\"ticks\":\"\"}},\"colorscale\":{\"diverging\":[[0,\"#8e0152\"],[0.1,\"#c51b7d\"],[0.2,\"#de77ae\"],[0.3,\"#f1b6da\"],[0.4,\"#fde0ef\"],[0.5,\"#f7f7f7\"],[0.6,\"#e6f5d0\"],[0.7,\"#b8e186\"],[0.8,\"#7fbc41\"],[0.9,\"#4d9221\"],[1,\"#276419\"]],\"sequential\":[[0.0,\"#0d0887\"],[0.1111111111111111,\"#46039f\"],[0.2222222222222222,\"#7201a8\"],[0.3333333333333333,\"#9c179e\"],[0.4444444444444444,\"#bd3786\"],[0.5555555555555556,\"#d8576b\"],[0.6666666666666666,\"#ed7953\"],[0.7777777777777778,\"#fb9f3a\"],[0.8888888888888888,\"#fdca26\"],[1.0,\"#f0f921\"]],\"sequentialminus\":[[0.0,\"#0d0887\"],[0.1111111111111111,\"#46039f\"],[0.2222222222222222,\"#7201a8\"],[0.3333333333333333,\"#9c179e\"],[0.4444444444444444,\"#bd3786\"],[0.5555555555555556,\"#d8576b\"],[0.6666666666666666,\"#ed7953\"],[0.7777777777777778,\"#fb9f3a\"],[0.8888888888888888,\"#fdca26\"],[1.0,\"#f0f921\"]]},\"colorway\":[\"#636efa\",\"#EF553B\",\"#00cc96\",\"#ab63fa\",\"#FFA15A\",\"#19d3f3\",\"#FF6692\",\"#B6E880\",\"#FF97FF\",\"#FECB52\"],\"font\":{\"color\":\"#2a3f5f\"},\"geo\":{\"bgcolor\":\"white\",\"lakecolor\":\"white\",\"landcolor\":\"#E5ECF6\",\"showlakes\":true,\"showland\":true,\"subunitcolor\":\"white\"},\"hoverlabel\":{\"align\":\"left\"},\"hovermode\":\"closest\",\"mapbox\":{\"style\":\"light\"},\"paper_bgcolor\":\"white\",\"plot_bgcolor\":\"#E5ECF6\",\"polar\":{\"angularaxis\":{\"gridcolor\":\"white\",\"linecolor\":\"white\",\"ticks\":\"\"},\"bgcolor\":\"#E5ECF6\",\"radialaxis\":{\"gridcolor\":\"white\",\"linecolor\":\"white\",\"ticks\":\"\"}},\"scene\":{\"xaxis\":{\"backgroundcolor\":\"#E5ECF6\",\"gridcolor\":\"white\",\"gridwidth\":2,\"linecolor\":\"white\",\"showbackground\":true,\"ticks\":\"\",\"zerolinecolor\":\"white\"},\"yaxis\":{\"backgroundcolor\":\"#E5ECF6\",\"gridcolor\":\"white\",\"gridwidth\":2,\"linecolor\":\"white\",\"showbackground\":true,\"ticks\":\"\",\"zerolinecolor\":\"white\"},\"zaxis\":{\"backgroundcolor\":\"#E5ECF6\",\"gridcolor\":\"white\",\"gridwidth\":2,\"linecolor\":\"white\",\"showbackground\":true,\"ticks\":\"\",\"zerolinecolor\":\"white\"}},\"shapedefaults\":{\"line\":{\"color\":\"#2a3f5f\"}},\"ternary\":{\"aaxis\":{\"gridcolor\":\"white\",\"linecolor\":\"white\",\"ticks\":\"\"},\"baxis\":{\"gridcolor\":\"white\",\"linecolor\":\"white\",\"ticks\":\"\"},\"bgcolor\":\"#E5ECF6\",\"caxis\":{\"gridcolor\":\"white\",\"linecolor\":\"white\",\"ticks\":\"\"}},\"title\":{\"x\":0.05},\"xaxis\":{\"automargin\":true,\"gridcolor\":\"white\",\"linecolor\":\"white\",\"ticks\":\"\",\"title\":{\"standoff\":15},\"zerolinecolor\":\"white\",\"zerolinewidth\":2},\"yaxis\":{\"automargin\":true,\"gridcolor\":\"white\",\"linecolor\":\"white\",\"ticks\":\"\",\"title\":{\"standoff\":15},\"zerolinecolor\":\"white\",\"zerolinewidth\":2}}}},                        {\"responsive\": true}                    ).then(function(){\n",
       "                            \n",
       "var gd = document.getElementById('a0b4fe07-a6de-4d3a-a37f-6fd1b1841f60');\n",
       "var x = new MutationObserver(function (mutations, observer) {{\n",
       "        var display = window.getComputedStyle(gd).display;\n",
       "        if (!display || display === 'none') {{\n",
       "            console.log([gd, 'removed!']);\n",
       "            Plotly.purge(gd);\n",
       "            observer.disconnect();\n",
       "        }}\n",
       "}});\n",
       "\n",
       "// Listen for the removal of the full notebook cells\n",
       "var notebookContainer = gd.closest('#notebook-container');\n",
       "if (notebookContainer) {{\n",
       "    x.observe(notebookContainer, {childList: true});\n",
       "}}\n",
       "\n",
       "// Listen for the clearing of the current output cell\n",
       "var outputEl = gd.closest('.output');\n",
       "if (outputEl) {{\n",
       "    x.observe(outputEl, {childList: true});\n",
       "}}\n",
       "\n",
       "                        })                };                });            </script>        </div>"
      ]
     },
     "metadata": {},
     "output_type": "display_data"
    }
   ],
   "source": [
    "ll = bagOfWords(df)\n",
    "s = \" \".join(ll)\n",
    "plotly_wordcloud(s)"
   ]
  },
  {
   "cell_type": "code",
   "execution_count": null,
   "id": "a224c3cf-a41b-4ec9-858b-d765926cb903",
   "metadata": {},
   "outputs": [],
   "source": [
    "#888888888888888888888#888888888888888888888#888888888888888888888#888888888888888888888#888888888888888888888#888888888888888888888#888888888888888888888"
   ]
  },
  {
   "cell_type": "code",
   "execution_count": 32,
   "id": "84f15ff5-a6e1-4455-b7b2-38ac509ef4ca",
   "metadata": {},
   "outputs": [
    {
     "name": "stdout",
     "output_type": "stream",
     "text": [
      "dash 1.19.0\n",
      "dash_table 4.4.1\n",
      "dcc 2.2.0\n",
      "html 2.0.2\n",
      "re 2.2.1\n",
      "json 2.0.9\n",
      "requests 2.25.1\n"
     ]
    }
   ],
   "source": [
    "print(\"dash\", dash.__version__)\n",
    "print(\"dash_table\", dash_table.__version__)\n",
    "print(\"dcc\", dcc.__version__)\n",
    "print(\"html\", html.__version__)\n",
    "#print(dash.dependencies.Input.__version__)\n",
    "#print(dash.dependencies.Output.__version__)\n",
    "#print(dash.dependencies.State.__version__)\n",
    "      #import Input, Output, State\n",
    "#print(dash.exceptions.__version__)# import PreventUpdate\n",
    "#print(helpers.__version__)\n",
    "#print(helpers.api_call.__version__)# import *\n",
    "#print(sentiment_scores.__version__)# import sentiment_scores\n",
    "#print(vaderSentiment.__version__)# import SentimentIntensityAnalyzer\n",
    "print(\"re\", re.__version__)\n",
    "\n",
    "#print(STOPWORDS.__version__) # import WordCloud, STOPWORDS\n",
    "#print(plotly.__version__)# as go\n",
    "\n",
    "print(\"json\", json.__version__)\n",
    "print(\"requests\", requests.__version__)\n"
   ]
  },
  {
   "cell_type": "code",
   "execution_count": null,
   "id": "9e6f9bf6-f763-4f0a-aa80-e5e8892170e7",
   "metadata": {},
   "outputs": [],
   "source": []
  },
  {
   "cell_type": "code",
   "execution_count": null,
   "id": "642fbab3-18f9-4d08-831f-e7bff7bda4f8",
   "metadata": {},
   "outputs": [],
   "source": []
  },
  {
   "cell_type": "code",
   "execution_count": 35,
   "id": "9469d877-4907-4529-9468-0794d3d7a565",
   "metadata": {},
   "outputs": [
    {
     "data": {
      "text/plain": [
       "Table([Thead(Tr([Th('id'), Th('title'), Th('description'), Th('body'), Th('datePublished'), Th('sentiment')])), Tbody([Tr([Td(2456037419726511616), Td('A terrible war crime: Killing of civilians in Ukraines Bucha sparks outrage and calls for new sanctions'), Td('Western nations unite in condemnation of Russia over civilian killings, as hundreds of bodies are found in towns around Kyiv'), Td('Vladimir Putin\\nPresident of Russia\\nWestern powers have vowed to hold Russia accountable for the killing of civilians in the town of Bucha and other areas around Kyiv, accusing Moscow of a terrible war crime.\\nOfficials in Ukraine said that troops had found civilian corpses with bound hands, gunshot wounds to the head, and showing signs of torture, after Russian soldiers withdrew from the outskirts of Kyiv. The Ukrainian government has accused Russias armed forces of carrying out a massacre and genocide.\\nAfter Ukraine announced on Saturday that it had reclaimed control of the Kyiv region  the first time it has done so since Vladimir Putinlaunched his invasion on 24 February  the mayor of Bucha, a liberated town 37 km northwest of the capital, said that hundreds of its residents had been killed by the Russian army.\\nUkrainian prosecutors investigating possible war crimes by Russiahave so far found 410 bodies in various towns near Kyiv, the countrys prosecutor general Iryna Venedyktova said later on Sunday.\\nCommunal workers carry the body of a civilian man killed by Russian shelling in the town of Bucha (AFP via Getty)\\nThe photographs of bodies strewn across the street, wrapped in bin bags and buried in mass graves, in Bucha as well as in the Kyiv suburbs of Irpin and Hostomel, spurred calls from officials in Ukraine, and vows from ministers across Europe, to impose tougher sanctions on Moscow.\\nOleksiy Arestovych, an adviser to Ukrainian president Volodymyr Zelensky, said the scores of dead looked like a scene from a horror movie, while Ukraines foreign minister, Dmytro Kuleba, said: Bucha massacre was deliberate. We are still gathering and looking for bodies, but the number has already gone into the hundreds.\\n\"Dead bodies lie on the streets. They killed civilians while staying there and when they were leaving these villages and towns.\\nMr Kuleba urged G7 nations to impose \"devastating\" new sanctions on Moscow to target its oil, gas, and coal industries, goods exports, and financial sector, and asked the International Criminal Court (ICC) to collect evidence of what he called war crimes.\\nStory continues\\nA soldier surveys the destruction left in Bucha (Zohra Bensemra/Reuters)\\nIn an interview with CBS Newslater on Sunday, Mr Zelensky himself said Russia was committing genocide against his country.\\nIndeed, this is genocide. The elimination of the whole nation and the people, he said, speaking through a translator. We are the citizens of Ukraine and we dont want to be subdued to the policy of Russian Federation. This is the reason we are being destroyed and exterminated.\\nRussias defence ministry denied that its forces had killed civilians in Bucha, and described photos and videos from the town as \"another staged performance by the Kyiv regime for the Western media\".\\nMoscow has previously denied targeting civilians and has rejected allegations of war crimes in what it calls a \"special military operation\" aimed at demilitarising and \"denazifying\" Ukraine.\\nThe foreign ministers of France, Germany, the UK and US were among those to condemn Russia over the reports from Bucha.\\nGerman chancellor Olaf Scholz prepares to give a statement about the killings in Bucha (AFP via Getty Images)\\nUS secretary of state Antony Blinken said the images of dead civilians were a punch in the gut and that those responsible must be held accountable.\\nUK prime minister Boris Johnson denounced Russias \"despicable attacks\" against civilians in Bucha and Irpin, describing them as war crimes and pledging increased sanctions and military support for Ukraine. The British government has vowed to support any war crimes investigation by the ICC and Mr Johnson said it would provide additional funding and investigators for the court.\\nEarlier, Foreign Secretary Liz Truss said \"indiscriminate\" attacks by Russian forces against innocent civilians must be investigated as war crimes and that the UK would \"not rest\" until those responsible for \"atrocities\" in Ukraine had faced justice. Ms Truss added that Russia would not be allowed to cover up its involvement through \"cynical disinformation\".\\nFrench president Emmanuel Macron, who has spoken frequently with Mr Putin in recent weeks, called the pictures \"unbearable\" and said Moscow will have to answer for these crimes, while Germanys vice chancellor Robert Habeck said the killings were a terrible war crime [that] cannot go unanswered.\\nThis map shows the extent of Russian invasion of Ukraine (Press Association Images)\\nLater, Germanys leader Olaf Scholz announced that western allies would agree further sanctions on Russia in the coming days over its invasion and the atrocities committed by Kremlin forces in Bucha.\\nNato head Jens Stoltenberg described the killings as \"a brutality against civilians not seen in Europe for decades, while UN chief Antonio Guterres said he was deeply shocked by the images and called for an independent investigation into the deaths.\\nMeanwhile, fighting continued across Ukraine on Sunday in the sixth week of a war that has driven more than 4 million people out of Ukraine as refugees and uprooted at least 6.5 million people within the country.\\nMissiles struck near the southern port of Odesa, with Russia saying it had destroyed an oil refineryand fuel depots used by the Ukrainian military to supply its troops.\\nUkraines Zelensky says Putin is committing genocide\\nThe regional governor in northeastern Kharkiv said that Russian artillery and tanks performed over 20 strikes on Ukraines second largest city and its outskirts over the past day, killing some civilians and injuring 23 - although he did not give a death toll.\\nEvacuation efforts in southeastern Mariupol and nearby Berdyansk were set to continue with a convoy of buses being prepared with help from the Red Cross, although The Independent understands that hopes are low after several previous failed attempts.\\nThe strategic port city is Russias main target in the Donbas region, and tens of thousands of civilians there have been trapped for weeks with very little to eat or drink. Several people who managed to escape the city by their own means told The Independent on Saturdaythat people there were burying bodies of those killed by shelling in mass graves in nursery schools, gardens and parks.\\nThere was little sign of a breakthrough on Sunday in efforts to negotiate an end to the conflict, although Russias chief negotiator, Vladimir Medinsky, said talks were set to resume on Monday via videoconference.\\nUkrainian negotiator David Arakhamia said enough progress had been made for direct talks between Mr Zelensky and Mr Putin.\\nAdvertisement'), Td('2022-04-03T19:17:25'), Td('Negative:-85.19%')])])])"
      ]
     },
     "execution_count": 35,
     "metadata": {},
     "output_type": "execute_result"
    }
   ],
   "source": [
    "def generate_table(dataframe, max_rows=10):\n",
    "    return html.Table([\n",
    "        html.Thead(\n",
    "            html.Tr([html.Th(col) for col in dataframe.columns])\n",
    "        ),\n",
    "        html.Tbody([\n",
    "            html.Tr([\n",
    "                html.Td(dataframe.iloc[i][col]) for col in dataframe.columns\n",
    "            ]) for i in range(min(len(dataframe), max_rows))\n",
    "        ])\n",
    "    ])\n",
    "\n",
    "generate_table(df)"
   ]
  },
  {
   "cell_type": "code",
   "execution_count": 46,
   "id": "7aedbe09-df1e-4574-9b1e-39ff8b112eac",
   "metadata": {},
   "outputs": [
    {
     "data": {
      "application/vnd.plotly.v1+json": {
       "config": {
        "plotlyServerURL": "https://plot.ly"
       },
       "data": [
        {
         "hoverinfo": "text",
         "hovertext": [
          "anwar1.0",
          "test1.0"
         ],
         "mode": "text",
         "text": [
          "anwar",
          "test"
         ],
         "textfont": {
          "color": [
           "rgb(47, 180, 124)",
           "rgb(239, 229, 28)"
          ],
          "size": [
           50,
           50
          ]
         },
         "type": "scatter",
         "x": [
          50,
          88
         ],
         "y": [
          85,
          94
         ]
        }
       ],
       "layout": {
        "height": 600,
        "template": {
         "data": {
          "bar": [
           {
            "error_x": {
             "color": "#2a3f5f"
            },
            "error_y": {
             "color": "#2a3f5f"
            },
            "marker": {
             "line": {
              "color": "#E5ECF6",
              "width": 0.5
             },
             "pattern": {
              "fillmode": "overlay",
              "size": 10,
              "solidity": 0.2
             }
            },
            "type": "bar"
           }
          ],
          "barpolar": [
           {
            "marker": {
             "line": {
              "color": "#E5ECF6",
              "width": 0.5
             },
             "pattern": {
              "fillmode": "overlay",
              "size": 10,
              "solidity": 0.2
             }
            },
            "type": "barpolar"
           }
          ],
          "carpet": [
           {
            "aaxis": {
             "endlinecolor": "#2a3f5f",
             "gridcolor": "white",
             "linecolor": "white",
             "minorgridcolor": "white",
             "startlinecolor": "#2a3f5f"
            },
            "baxis": {
             "endlinecolor": "#2a3f5f",
             "gridcolor": "white",
             "linecolor": "white",
             "minorgridcolor": "white",
             "startlinecolor": "#2a3f5f"
            },
            "type": "carpet"
           }
          ],
          "choropleth": [
           {
            "colorbar": {
             "outlinewidth": 0,
             "ticks": ""
            },
            "type": "choropleth"
           }
          ],
          "contour": [
           {
            "colorbar": {
             "outlinewidth": 0,
             "ticks": ""
            },
            "colorscale": [
             [
              0,
              "#0d0887"
             ],
             [
              0.1111111111111111,
              "#46039f"
             ],
             [
              0.2222222222222222,
              "#7201a8"
             ],
             [
              0.3333333333333333,
              "#9c179e"
             ],
             [
              0.4444444444444444,
              "#bd3786"
             ],
             [
              0.5555555555555556,
              "#d8576b"
             ],
             [
              0.6666666666666666,
              "#ed7953"
             ],
             [
              0.7777777777777778,
              "#fb9f3a"
             ],
             [
              0.8888888888888888,
              "#fdca26"
             ],
             [
              1,
              "#f0f921"
             ]
            ],
            "type": "contour"
           }
          ],
          "contourcarpet": [
           {
            "colorbar": {
             "outlinewidth": 0,
             "ticks": ""
            },
            "type": "contourcarpet"
           }
          ],
          "heatmap": [
           {
            "colorbar": {
             "outlinewidth": 0,
             "ticks": ""
            },
            "colorscale": [
             [
              0,
              "#0d0887"
             ],
             [
              0.1111111111111111,
              "#46039f"
             ],
             [
              0.2222222222222222,
              "#7201a8"
             ],
             [
              0.3333333333333333,
              "#9c179e"
             ],
             [
              0.4444444444444444,
              "#bd3786"
             ],
             [
              0.5555555555555556,
              "#d8576b"
             ],
             [
              0.6666666666666666,
              "#ed7953"
             ],
             [
              0.7777777777777778,
              "#fb9f3a"
             ],
             [
              0.8888888888888888,
              "#fdca26"
             ],
             [
              1,
              "#f0f921"
             ]
            ],
            "type": "heatmap"
           }
          ],
          "heatmapgl": [
           {
            "colorbar": {
             "outlinewidth": 0,
             "ticks": ""
            },
            "colorscale": [
             [
              0,
              "#0d0887"
             ],
             [
              0.1111111111111111,
              "#46039f"
             ],
             [
              0.2222222222222222,
              "#7201a8"
             ],
             [
              0.3333333333333333,
              "#9c179e"
             ],
             [
              0.4444444444444444,
              "#bd3786"
             ],
             [
              0.5555555555555556,
              "#d8576b"
             ],
             [
              0.6666666666666666,
              "#ed7953"
             ],
             [
              0.7777777777777778,
              "#fb9f3a"
             ],
             [
              0.8888888888888888,
              "#fdca26"
             ],
             [
              1,
              "#f0f921"
             ]
            ],
            "type": "heatmapgl"
           }
          ],
          "histogram": [
           {
            "marker": {
             "pattern": {
              "fillmode": "overlay",
              "size": 10,
              "solidity": 0.2
             }
            },
            "type": "histogram"
           }
          ],
          "histogram2d": [
           {
            "colorbar": {
             "outlinewidth": 0,
             "ticks": ""
            },
            "colorscale": [
             [
              0,
              "#0d0887"
             ],
             [
              0.1111111111111111,
              "#46039f"
             ],
             [
              0.2222222222222222,
              "#7201a8"
             ],
             [
              0.3333333333333333,
              "#9c179e"
             ],
             [
              0.4444444444444444,
              "#bd3786"
             ],
             [
              0.5555555555555556,
              "#d8576b"
             ],
             [
              0.6666666666666666,
              "#ed7953"
             ],
             [
              0.7777777777777778,
              "#fb9f3a"
             ],
             [
              0.8888888888888888,
              "#fdca26"
             ],
             [
              1,
              "#f0f921"
             ]
            ],
            "type": "histogram2d"
           }
          ],
          "histogram2dcontour": [
           {
            "colorbar": {
             "outlinewidth": 0,
             "ticks": ""
            },
            "colorscale": [
             [
              0,
              "#0d0887"
             ],
             [
              0.1111111111111111,
              "#46039f"
             ],
             [
              0.2222222222222222,
              "#7201a8"
             ],
             [
              0.3333333333333333,
              "#9c179e"
             ],
             [
              0.4444444444444444,
              "#bd3786"
             ],
             [
              0.5555555555555556,
              "#d8576b"
             ],
             [
              0.6666666666666666,
              "#ed7953"
             ],
             [
              0.7777777777777778,
              "#fb9f3a"
             ],
             [
              0.8888888888888888,
              "#fdca26"
             ],
             [
              1,
              "#f0f921"
             ]
            ],
            "type": "histogram2dcontour"
           }
          ],
          "mesh3d": [
           {
            "colorbar": {
             "outlinewidth": 0,
             "ticks": ""
            },
            "type": "mesh3d"
           }
          ],
          "parcoords": [
           {
            "line": {
             "colorbar": {
              "outlinewidth": 0,
              "ticks": ""
             }
            },
            "type": "parcoords"
           }
          ],
          "pie": [
           {
            "automargin": true,
            "type": "pie"
           }
          ],
          "scatter": [
           {
            "marker": {
             "colorbar": {
              "outlinewidth": 0,
              "ticks": ""
             }
            },
            "type": "scatter"
           }
          ],
          "scatter3d": [
           {
            "line": {
             "colorbar": {
              "outlinewidth": 0,
              "ticks": ""
             }
            },
            "marker": {
             "colorbar": {
              "outlinewidth": 0,
              "ticks": ""
             }
            },
            "type": "scatter3d"
           }
          ],
          "scattercarpet": [
           {
            "marker": {
             "colorbar": {
              "outlinewidth": 0,
              "ticks": ""
             }
            },
            "type": "scattercarpet"
           }
          ],
          "scattergeo": [
           {
            "marker": {
             "colorbar": {
              "outlinewidth": 0,
              "ticks": ""
             }
            },
            "type": "scattergeo"
           }
          ],
          "scattergl": [
           {
            "marker": {
             "colorbar": {
              "outlinewidth": 0,
              "ticks": ""
             }
            },
            "type": "scattergl"
           }
          ],
          "scattermapbox": [
           {
            "marker": {
             "colorbar": {
              "outlinewidth": 0,
              "ticks": ""
             }
            },
            "type": "scattermapbox"
           }
          ],
          "scatterpolar": [
           {
            "marker": {
             "colorbar": {
              "outlinewidth": 0,
              "ticks": ""
             }
            },
            "type": "scatterpolar"
           }
          ],
          "scatterpolargl": [
           {
            "marker": {
             "colorbar": {
              "outlinewidth": 0,
              "ticks": ""
             }
            },
            "type": "scatterpolargl"
           }
          ],
          "scatterternary": [
           {
            "marker": {
             "colorbar": {
              "outlinewidth": 0,
              "ticks": ""
             }
            },
            "type": "scatterternary"
           }
          ],
          "surface": [
           {
            "colorbar": {
             "outlinewidth": 0,
             "ticks": ""
            },
            "colorscale": [
             [
              0,
              "#0d0887"
             ],
             [
              0.1111111111111111,
              "#46039f"
             ],
             [
              0.2222222222222222,
              "#7201a8"
             ],
             [
              0.3333333333333333,
              "#9c179e"
             ],
             [
              0.4444444444444444,
              "#bd3786"
             ],
             [
              0.5555555555555556,
              "#d8576b"
             ],
             [
              0.6666666666666666,
              "#ed7953"
             ],
             [
              0.7777777777777778,
              "#fb9f3a"
             ],
             [
              0.8888888888888888,
              "#fdca26"
             ],
             [
              1,
              "#f0f921"
             ]
            ],
            "type": "surface"
           }
          ],
          "table": [
           {
            "cells": {
             "fill": {
              "color": "#EBF0F8"
             },
             "line": {
              "color": "white"
             }
            },
            "header": {
             "fill": {
              "color": "#C8D4E3"
             },
             "line": {
              "color": "white"
             }
            },
            "type": "table"
           }
          ]
         },
         "layout": {
          "annotationdefaults": {
           "arrowcolor": "#2a3f5f",
           "arrowhead": 0,
           "arrowwidth": 1
          },
          "autotypenumbers": "strict",
          "coloraxis": {
           "colorbar": {
            "outlinewidth": 0,
            "ticks": ""
           }
          },
          "colorscale": {
           "diverging": [
            [
             0,
             "#8e0152"
            ],
            [
             0.1,
             "#c51b7d"
            ],
            [
             0.2,
             "#de77ae"
            ],
            [
             0.3,
             "#f1b6da"
            ],
            [
             0.4,
             "#fde0ef"
            ],
            [
             0.5,
             "#f7f7f7"
            ],
            [
             0.6,
             "#e6f5d0"
            ],
            [
             0.7,
             "#b8e186"
            ],
            [
             0.8,
             "#7fbc41"
            ],
            [
             0.9,
             "#4d9221"
            ],
            [
             1,
             "#276419"
            ]
           ],
           "sequential": [
            [
             0,
             "#0d0887"
            ],
            [
             0.1111111111111111,
             "#46039f"
            ],
            [
             0.2222222222222222,
             "#7201a8"
            ],
            [
             0.3333333333333333,
             "#9c179e"
            ],
            [
             0.4444444444444444,
             "#bd3786"
            ],
            [
             0.5555555555555556,
             "#d8576b"
            ],
            [
             0.6666666666666666,
             "#ed7953"
            ],
            [
             0.7777777777777778,
             "#fb9f3a"
            ],
            [
             0.8888888888888888,
             "#fdca26"
            ],
            [
             1,
             "#f0f921"
            ]
           ],
           "sequentialminus": [
            [
             0,
             "#0d0887"
            ],
            [
             0.1111111111111111,
             "#46039f"
            ],
            [
             0.2222222222222222,
             "#7201a8"
            ],
            [
             0.3333333333333333,
             "#9c179e"
            ],
            [
             0.4444444444444444,
             "#bd3786"
            ],
            [
             0.5555555555555556,
             "#d8576b"
            ],
            [
             0.6666666666666666,
             "#ed7953"
            ],
            [
             0.7777777777777778,
             "#fb9f3a"
            ],
            [
             0.8888888888888888,
             "#fdca26"
            ],
            [
             1,
             "#f0f921"
            ]
           ]
          },
          "colorway": [
           "#636efa",
           "#EF553B",
           "#00cc96",
           "#ab63fa",
           "#FFA15A",
           "#19d3f3",
           "#FF6692",
           "#B6E880",
           "#FF97FF",
           "#FECB52"
          ],
          "font": {
           "color": "#2a3f5f"
          },
          "geo": {
           "bgcolor": "white",
           "lakecolor": "white",
           "landcolor": "#E5ECF6",
           "showlakes": true,
           "showland": true,
           "subunitcolor": "white"
          },
          "hoverlabel": {
           "align": "left"
          },
          "hovermode": "closest",
          "mapbox": {
           "style": "light"
          },
          "paper_bgcolor": "white",
          "plot_bgcolor": "#E5ECF6",
          "polar": {
           "angularaxis": {
            "gridcolor": "white",
            "linecolor": "white",
            "ticks": ""
           },
           "bgcolor": "#E5ECF6",
           "radialaxis": {
            "gridcolor": "white",
            "linecolor": "white",
            "ticks": ""
           }
          },
          "scene": {
           "xaxis": {
            "backgroundcolor": "#E5ECF6",
            "gridcolor": "white",
            "gridwidth": 2,
            "linecolor": "white",
            "showbackground": true,
            "ticks": "",
            "zerolinecolor": "white"
           },
           "yaxis": {
            "backgroundcolor": "#E5ECF6",
            "gridcolor": "white",
            "gridwidth": 2,
            "linecolor": "white",
            "showbackground": true,
            "ticks": "",
            "zerolinecolor": "white"
           },
           "zaxis": {
            "backgroundcolor": "#E5ECF6",
            "gridcolor": "white",
            "gridwidth": 2,
            "linecolor": "white",
            "showbackground": true,
            "ticks": "",
            "zerolinecolor": "white"
           }
          },
          "shapedefaults": {
           "line": {
            "color": "#2a3f5f"
           }
          },
          "ternary": {
           "aaxis": {
            "gridcolor": "white",
            "linecolor": "white",
            "ticks": ""
           },
           "baxis": {
            "gridcolor": "white",
            "linecolor": "white",
            "ticks": ""
           },
           "bgcolor": "#E5ECF6",
           "caxis": {
            "gridcolor": "white",
            "linecolor": "white",
            "ticks": ""
           }
          },
          "title": {
           "x": 0.05
          },
          "xaxis": {
           "automargin": true,
           "gridcolor": "white",
           "linecolor": "white",
           "ticks": "",
           "title": {
            "standoff": 15
           },
           "zerolinecolor": "white",
           "zerolinewidth": 2
          },
          "yaxis": {
           "automargin": true,
           "gridcolor": "white",
           "linecolor": "white",
           "ticks": "",
           "title": {
            "standoff": 15
           },
           "zerolinecolor": "white",
           "zerolinewidth": 2
          }
         }
        },
        "width": 1000,
        "xaxis": {
         "autorange": true,
         "range": [
          47.888888888888886,
          90.11111111111111
         ],
         "showgrid": false,
         "showticklabels": false,
         "type": "linear",
         "zeroline": false
        },
        "yaxis": {
         "autorange": true,
         "range": [
          84.5,
          94.5
         ],
         "showgrid": false,
         "showticklabels": false,
         "type": "linear",
         "zeroline": false
        }
       }
      },
      "image/png": "[encoded data removed]",
      "text/html": [
       "<div>                            <div id=\"d13dbb01-ec91-4b7c-aa07-82f951acdece\" class=\"plotly-graph-div\" style=\"height:600px; width:1000px;\"></div>            <script type=\"text/javascript\">                require([\"plotly\"], function(Plotly) {                    window.PLOTLYENV=window.PLOTLYENV || {};                                    if (document.getElementById(\"d13dbb01-ec91-4b7c-aa07-82f951acdece\")) {                    Plotly.newPlot(                        \"d13dbb01-ec91-4b7c-aa07-82f951acdece\",                        [{\"hoverinfo\":\"text\",\"hovertext\":[\"anwar1.0\",\"test1.0\"],\"mode\":\"text\",\"text\":[\"anwar\",\"test\"],\"textfont\":{\"color\":[\"rgb(47, 180, 124)\",\"rgb(239, 229, 28)\"],\"size\":[50.0,50.0]},\"x\":[50,88],\"y\":[85,94],\"type\":\"scatter\"}],                        {\"height\":600,\"width\":1000,\"xaxis\":{\"showgrid\":false,\"showticklabels\":false,\"zeroline\":false},\"yaxis\":{\"showgrid\":false,\"showticklabels\":false,\"zeroline\":false},\"template\":{\"data\":{\"bar\":[{\"error_x\":{\"color\":\"#2a3f5f\"},\"error_y\":{\"color\":\"#2a3f5f\"},\"marker\":{\"line\":{\"color\":\"#E5ECF6\",\"width\":0.5},\"pattern\":{\"fillmode\":\"overlay\",\"size\":10,\"solidity\":0.2}},\"type\":\"bar\"}],\"barpolar\":[{\"marker\":{\"line\":{\"color\":\"#E5ECF6\",\"width\":0.5},\"pattern\":{\"fillmode\":\"overlay\",\"size\":10,\"solidity\":0.2}},\"type\":\"barpolar\"}],\"carpet\":[{\"aaxis\":{\"endlinecolor\":\"#2a3f5f\",\"gridcolor\":\"white\",\"linecolor\":\"white\",\"minorgridcolor\":\"white\",\"startlinecolor\":\"#2a3f5f\"},\"baxis\":{\"endlinecolor\":\"#2a3f5f\",\"gridcolor\":\"white\",\"linecolor\":\"white\",\"minorgridcolor\":\"white\",\"startlinecolor\":\"#2a3f5f\"},\"type\":\"carpet\"}],\"choropleth\":[{\"colorbar\":{\"outlinewidth\":0,\"ticks\":\"\"},\"type\":\"choropleth\"}],\"contour\":[{\"colorbar\":{\"outlinewidth\":0,\"ticks\":\"\"},\"colorscale\":[[0.0,\"#0d0887\"],[0.1111111111111111,\"#46039f\"],[0.2222222222222222,\"#7201a8\"],[0.3333333333333333,\"#9c179e\"],[0.4444444444444444,\"#bd3786\"],[0.5555555555555556,\"#d8576b\"],[0.6666666666666666,\"#ed7953\"],[0.7777777777777778,\"#fb9f3a\"],[0.8888888888888888,\"#fdca26\"],[1.0,\"#f0f921\"]],\"type\":\"contour\"}],\"contourcarpet\":[{\"colorbar\":{\"outlinewidth\":0,\"ticks\":\"\"},\"type\":\"contourcarpet\"}],\"heatmap\":[{\"colorbar\":{\"outlinewidth\":0,\"ticks\":\"\"},\"colorscale\":[[0.0,\"#0d0887\"],[0.1111111111111111,\"#46039f\"],[0.2222222222222222,\"#7201a8\"],[0.3333333333333333,\"#9c179e\"],[0.4444444444444444,\"#bd3786\"],[0.5555555555555556,\"#d8576b\"],[0.6666666666666666,\"#ed7953\"],[0.7777777777777778,\"#fb9f3a\"],[0.8888888888888888,\"#fdca26\"],[1.0,\"#f0f921\"]],\"type\":\"heatmap\"}],\"heatmapgl\":[{\"colorbar\":{\"outlinewidth\":0,\"ticks\":\"\"},\"colorscale\":[[0.0,\"#0d0887\"],[0.1111111111111111,\"#46039f\"],[0.2222222222222222,\"#7201a8\"],[0.3333333333333333,\"#9c179e\"],[0.4444444444444444,\"#bd3786\"],[0.5555555555555556,\"#d8576b\"],[0.6666666666666666,\"#ed7953\"],[0.7777777777777778,\"#fb9f3a\"],[0.8888888888888888,\"#fdca26\"],[1.0,\"#f0f921\"]],\"type\":\"heatmapgl\"}],\"histogram\":[{\"marker\":{\"pattern\":{\"fillmode\":\"overlay\",\"size\":10,\"solidity\":0.2}},\"type\":\"histogram\"}],\"histogram2d\":[{\"colorbar\":{\"outlinewidth\":0,\"ticks\":\"\"},\"colorscale\":[[0.0,\"#0d0887\"],[0.1111111111111111,\"#46039f\"],[0.2222222222222222,\"#7201a8\"],[0.3333333333333333,\"#9c179e\"],[0.4444444444444444,\"#bd3786\"],[0.5555555555555556,\"#d8576b\"],[0.6666666666666666,\"#ed7953\"],[0.7777777777777778,\"#fb9f3a\"],[0.8888888888888888,\"#fdca26\"],[1.0,\"#f0f921\"]],\"type\":\"histogram2d\"}],\"histogram2dcontour\":[{\"colorbar\":{\"outlinewidth\":0,\"ticks\":\"\"},\"colorscale\":[[0.0,\"#0d0887\"],[0.1111111111111111,\"#46039f\"],[0.2222222222222222,\"#7201a8\"],[0.3333333333333333,\"#9c179e\"],[0.4444444444444444,\"#bd3786\"],[0.5555555555555556,\"#d8576b\"],[0.6666666666666666,\"#ed7953\"],[0.7777777777777778,\"#fb9f3a\"],[0.8888888888888888,\"#fdca26\"],[1.0,\"#f0f921\"]],\"type\":\"histogram2dcontour\"}],\"mesh3d\":[{\"colorbar\":{\"outlinewidth\":0,\"ticks\":\"\"},\"type\":\"mesh3d\"}],\"parcoords\":[{\"line\":{\"colorbar\":{\"outlinewidth\":0,\"ticks\":\"\"}},\"type\":\"parcoords\"}],\"pie\":[{\"automargin\":true,\"type\":\"pie\"}],\"scatter\":[{\"marker\":{\"colorbar\":{\"outlinewidth\":0,\"ticks\":\"\"}},\"type\":\"scatter\"}],\"scatter3d\":[{\"line\":{\"colorbar\":{\"outlinewidth\":0,\"ticks\":\"\"}},\"marker\":{\"colorbar\":{\"outlinewidth\":0,\"ticks\":\"\"}},\"type\":\"scatter3d\"}],\"scattercarpet\":[{\"marker\":{\"colorbar\":{\"outlinewidth\":0,\"ticks\":\"\"}},\"type\":\"scattercarpet\"}],\"scattergeo\":[{\"marker\":{\"colorbar\":{\"outlinewidth\":0,\"ticks\":\"\"}},\"type\":\"scattergeo\"}],\"scattergl\":[{\"marker\":{\"colorbar\":{\"outlinewidth\":0,\"ticks\":\"\"}},\"type\":\"scattergl\"}],\"scattermapbox\":[{\"marker\":{\"colorbar\":{\"outlinewidth\":0,\"ticks\":\"\"}},\"type\":\"scattermapbox\"}],\"scatterpolar\":[{\"marker\":{\"colorbar\":{\"outlinewidth\":0,\"ticks\":\"\"}},\"type\":\"scatterpolar\"}],\"scatterpolargl\":[{\"marker\":{\"colorbar\":{\"outlinewidth\":0,\"ticks\":\"\"}},\"type\":\"scatterpolargl\"}],\"scatterternary\":[{\"marker\":{\"colorbar\":{\"outlinewidth\":0,\"ticks\":\"\"}},\"type\":\"scatterternary\"}],\"surface\":[{\"colorbar\":{\"outlinewidth\":0,\"ticks\":\"\"},\"colorscale\":[[0.0,\"#0d0887\"],[0.1111111111111111,\"#46039f\"],[0.2222222222222222,\"#7201a8\"],[0.3333333333333333,\"#9c179e\"],[0.4444444444444444,\"#bd3786\"],[0.5555555555555556,\"#d8576b\"],[0.6666666666666666,\"#ed7953\"],[0.7777777777777778,\"#fb9f3a\"],[0.8888888888888888,\"#fdca26\"],[1.0,\"#f0f921\"]],\"type\":\"surface\"}],\"table\":[{\"cells\":{\"fill\":{\"color\":\"#EBF0F8\"},\"line\":{\"color\":\"white\"}},\"header\":{\"fill\":{\"color\":\"#C8D4E3\"},\"line\":{\"color\":\"white\"}},\"type\":\"table\"}]},\"layout\":{\"annotationdefaults\":{\"arrowcolor\":\"#2a3f5f\",\"arrowhead\":0,\"arrowwidth\":1},\"autotypenumbers\":\"strict\",\"coloraxis\":{\"colorbar\":{\"outlinewidth\":0,\"ticks\":\"\"}},\"colorscale\":{\"diverging\":[[0,\"#8e0152\"],[0.1,\"#c51b7d\"],[0.2,\"#de77ae\"],[0.3,\"#f1b6da\"],[0.4,\"#fde0ef\"],[0.5,\"#f7f7f7\"],[0.6,\"#e6f5d0\"],[0.7,\"#b8e186\"],[0.8,\"#7fbc41\"],[0.9,\"#4d9221\"],[1,\"#276419\"]],\"sequential\":[[0.0,\"#0d0887\"],[0.1111111111111111,\"#46039f\"],[0.2222222222222222,\"#7201a8\"],[0.3333333333333333,\"#9c179e\"],[0.4444444444444444,\"#bd3786\"],[0.5555555555555556,\"#d8576b\"],[0.6666666666666666,\"#ed7953\"],[0.7777777777777778,\"#fb9f3a\"],[0.8888888888888888,\"#fdca26\"],[1.0,\"#f0f921\"]],\"sequentialminus\":[[0.0,\"#0d0887\"],[0.1111111111111111,\"#46039f\"],[0.2222222222222222,\"#7201a8\"],[0.3333333333333333,\"#9c179e\"],[0.4444444444444444,\"#bd3786\"],[0.5555555555555556,\"#d8576b\"],[0.6666666666666666,\"#ed7953\"],[0.7777777777777778,\"#fb9f3a\"],[0.8888888888888888,\"#fdca26\"],[1.0,\"#f0f921\"]]},\"colorway\":[\"#636efa\",\"#EF553B\",\"#00cc96\",\"#ab63fa\",\"#FFA15A\",\"#19d3f3\",\"#FF6692\",\"#B6E880\",\"#FF97FF\",\"#FECB52\"],\"font\":{\"color\":\"#2a3f5f\"},\"geo\":{\"bgcolor\":\"white\",\"lakecolor\":\"white\",\"landcolor\":\"#E5ECF6\",\"showlakes\":true,\"showland\":true,\"subunitcolor\":\"white\"},\"hoverlabel\":{\"align\":\"left\"},\"hovermode\":\"closest\",\"mapbox\":{\"style\":\"light\"},\"paper_bgcolor\":\"white\",\"plot_bgcolor\":\"#E5ECF6\",\"polar\":{\"angularaxis\":{\"gridcolor\":\"white\",\"linecolor\":\"white\",\"ticks\":\"\"},\"bgcolor\":\"#E5ECF6\",\"radialaxis\":{\"gridcolor\":\"white\",\"linecolor\":\"white\",\"ticks\":\"\"}},\"scene\":{\"xaxis\":{\"backgroundcolor\":\"#E5ECF6\",\"gridcolor\":\"white\",\"gridwidth\":2,\"linecolor\":\"white\",\"showbackground\":true,\"ticks\":\"\",\"zerolinecolor\":\"white\"},\"yaxis\":{\"backgroundcolor\":\"#E5ECF6\",\"gridcolor\":\"white\",\"gridwidth\":2,\"linecolor\":\"white\",\"showbackground\":true,\"ticks\":\"\",\"zerolinecolor\":\"white\"},\"zaxis\":{\"backgroundcolor\":\"#E5ECF6\",\"gridcolor\":\"white\",\"gridwidth\":2,\"linecolor\":\"white\",\"showbackground\":true,\"ticks\":\"\",\"zerolinecolor\":\"white\"}},\"shapedefaults\":{\"line\":{\"color\":\"#2a3f5f\"}},\"ternary\":{\"aaxis\":{\"gridcolor\":\"white\",\"linecolor\":\"white\",\"ticks\":\"\"},\"baxis\":{\"gridcolor\":\"white\",\"linecolor\":\"white\",\"ticks\":\"\"},\"bgcolor\":\"#E5ECF6\",\"caxis\":{\"gridcolor\":\"white\",\"linecolor\":\"white\",\"ticks\":\"\"}},\"title\":{\"x\":0.05},\"xaxis\":{\"automargin\":true,\"gridcolor\":\"white\",\"linecolor\":\"white\",\"ticks\":\"\",\"title\":{\"standoff\":15},\"zerolinecolor\":\"white\",\"zerolinewidth\":2},\"yaxis\":{\"automargin\":true,\"gridcolor\":\"white\",\"linecolor\":\"white\",\"ticks\":\"\",\"title\":{\"standoff\":15},\"zerolinecolor\":\"white\",\"zerolinewidth\":2}}}},                        {\"responsive\": true}                    ).then(function(){\n",
       "                            \n",
       "var gd = document.getElementById('d13dbb01-ec91-4b7c-aa07-82f951acdece');\n",
       "var x = new MutationObserver(function (mutations, observer) {{\n",
       "        var display = window.getComputedStyle(gd).display;\n",
       "        if (!display || display === 'none') {{\n",
       "            console.log([gd, 'removed!']);\n",
       "            Plotly.purge(gd);\n",
       "            observer.disconnect();\n",
       "        }}\n",
       "}});\n",
       "\n",
       "// Listen for the removal of the full notebook cells\n",
       "var notebookContainer = gd.closest('#notebook-container');\n",
       "if (notebookContainer) {{\n",
       "    x.observe(notebookContainer, {childList: true});\n",
       "}}\n",
       "\n",
       "// Listen for the clearing of the current output cell\n",
       "var outputEl = gd.closest('.output');\n",
       "if (outputEl) {{\n",
       "    x.observe(outputEl, {childList: true});\n",
       "}}\n",
       "\n",
       "                        })                };                });            </script>        </div>"
      ]
     },
     "metadata": {},
     "output_type": "display_data"
    }
   ],
   "source": [
    "def plotly_wordcloud(text):\n",
    "    wc = WordCloud(stopwords = set(STOPWORDS),\n",
    "                   max_words = 25,\n",
    "                   max_font_size = 50)\n",
    "    wc.generate(text)\n",
    "    \n",
    "    word_list=[]\n",
    "    freq_list=[]\n",
    "    fontsize_list=[]\n",
    "    position_list=[]\n",
    "    orientation_list=[]\n",
    "    color_list=[]\n",
    "\n",
    "    for (word, freq), fontsize, position, orientation, color in wc.layout_:\n",
    "        word_list.append(word)\n",
    "        freq_list.append(freq)\n",
    "        fontsize_list.append(fontsize)\n",
    "        position_list.append(position)\n",
    "        orientation_list.append(orientation)\n",
    "        color_list.append(color)\n",
    "        \n",
    "    # get the positions\n",
    "    x=[]\n",
    "    y=[]\n",
    "    for i in position_list:\n",
    "        x.append(i[0])\n",
    "        y.append(i[1])\n",
    "            \n",
    "    # get the relative occurence frequencies\n",
    "    new_freq_list = []\n",
    "    for i in freq_list:\n",
    "        new_freq_list.append(i*50)\n",
    "    new_freq_list\n",
    "    \n",
    "    trace = go.Scatter(x=x, \n",
    "                       y=y, \n",
    "                       textfont = dict(size=new_freq_list,\n",
    "                                       color=color_list),\n",
    "                       hoverinfo='text',\n",
    "                       hovertext=['{0}{1}'.format(w, f) for w, f in zip(word_list, freq_list)],\n",
    "                       mode='text',  \n",
    "                       text=word_list\n",
    "                      )\n",
    "    \n",
    "    layout = go.Layout({'xaxis': {'showgrid': False, 'showticklabels': False, 'zeroline': False},\n",
    "                        'yaxis': {'showgrid': False, 'showticklabels': False, 'zeroline': False}},\n",
    "                           width=1000, \n",
    "                           height=600)\n",
    "    \n",
    "    fig = go.Figure(data=[trace], layout=layout)\n",
    "    \n",
    "    return fig\n",
    "\n",
    "plotly_wordcloud(\"this is anwar's test\")"
   ]
  },
  {
   "cell_type": "code",
   "execution_count": null,
   "id": "a488819c-9d12-41b3-9785-f3d4a33e064d",
   "metadata": {},
   "outputs": [],
   "source": []
  }
 ],
 "metadata": {
  "kernelspec": {
   "display_name": "Python 3",
   "language": "python",
   "name": "python3"
  },
  "language_info": {
   "codemirror_mode": {
    "name": "ipython",
    "version": 3
   },
   "file_extension": ".py",
   "mimetype": "text/x-python",
   "name": "python",
   "nbconvert_exporter": "python",
   "pygments_lexer": "ipython3",
   "version": "3.8.8"
  }
 },
 "nbformat": 4,
 "nbformat_minor": 5
}
